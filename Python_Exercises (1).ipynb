{
  "cells": [
    {
      "cell_type": "markdown",
      "metadata": {
        "id": "XDlLlhqab1Mv"
      },
      "source": [
        "\n",
        "___\n",
        "# Python  Exercises "
      ]
    },
    {
      "cell_type": "markdown",
      "metadata": {
        "id": "3UlH-Ftcb1Mx"
      },
      "source": [
        "## Exercises\n",
        "\n",
        "Answer the questions or complete the tasks outlined in bold below, use the specific method described if applicable."
      ]
    },
    {
      "cell_type": "markdown",
      "metadata": {
        "id": "kRFZC-iyb1My"
      },
      "source": [
        "** What is 7 to the power of 4?**"
      ]
    },
    {
      "cell_type": "code",
      "execution_count": 2,
      "metadata": {
        "id": "1WKnaisrb1My",
        "outputId": "dea838e7-0428-4407-b007-450becd0e0da",
        "colab": {
          "base_uri": "https://localhost:8080/"
        }
      },
      "outputs": [
        {
          "output_type": "stream",
          "name": "stdout",
          "text": [
            "enter the base value2\n",
            "enter the exponent value3\n",
            "answer is  8\n"
          ]
        }
      ],
      "source": [
        "b = input(\"enter the base value\")                      \n",
        "e = input(\"enter the exponent value\")\n",
        "a = int(b)**int(e)\n",
        "print(\"answer is \",a)"
      ]
    },
    {
      "cell_type": "markdown",
      "metadata": {
        "id": "LZ9tWElSb1Mz"
      },
      "source": [
        "** Split this string:**\n",
        "\n",
        "    s = \"Hi there Sam!\"\n",
        "    \n",
        "**into a list. **"
      ]
    },
    {
      "cell_type": "code",
      "execution_count": 3,
      "metadata": {
        "id": "Wcslzumzb1Mz",
        "colab": {
          "base_uri": "https://localhost:8080/"
        },
        "outputId": "6e4ec7e7-772b-403c-8f46-ebadd8c6a3ad"
      },
      "outputs": [
        {
          "output_type": "stream",
          "name": "stdout",
          "text": [
            "['Hi', 'there', 'Sam!']\n"
          ]
        }
      ],
      "source": [
        "text = \"Hi there Sam!\"\n",
        "print(text.split())"
      ]
    },
    {
      "cell_type": "markdown",
      "metadata": {
        "id": "xekHgxEYb1M0"
      },
      "source": [
        "** Given the variables:**\n",
        "\n",
        "    planet = \"Earth\"\n",
        "    diameter = 12742\n",
        "\n",
        "** Use .format() to print the following string: **\n",
        "\n",
        "    The diameter of Earth is 12742 kilometers."
      ]
    },
    {
      "cell_type": "code",
      "execution_count": 4,
      "metadata": {
        "id": "Xyx9p0NYb1M0",
        "colab": {
          "base_uri": "https://localhost:8080/"
        },
        "outputId": "8d54bc99-b119-4d9c-81d7-3132a143cfc2"
      },
      "outputs": [
        {
          "output_type": "stream",
          "name": "stdout",
          "text": [
            "The diameter of Earth is 12742 \n"
          ]
        }
      ],
      "source": [
        "planet = \"Earth\"                                                \n",
        "diameter = 12742\n",
        "print(\"The diameter of {} is {} \".format(planet,diameter))"
      ]
    },
    {
      "cell_type": "code",
      "execution_count": null,
      "metadata": {
        "id": "t4p8spx8b1M1",
        "outputId": "f165b1a0-79aa-4ed4-d039-50f7404bec50"
      },
      "outputs": [
        {
          "name": "stdout",
          "output_type": "stream",
          "text": [
            "The diameter of Earth is 12742 kilometers.\n"
          ]
        }
      ],
      "source": [
        "print(\"The diameter of {} is {} kilometers.\".format(planet,diameter))"
      ]
    },
    {
      "cell_type": "markdown",
      "metadata": {
        "id": "MeKdG_Drb1M2"
      },
      "source": [
        "** Given this nested list, use indexing to grab the word \"hello\" **"
      ]
    },
    {
      "cell_type": "code",
      "execution_count": null,
      "metadata": {
        "id": "L7dSDhavb1M2"
      },
      "outputs": [],
      "source": [
        "lst = [1,2,[3,4],[5,[100,200,['hello']],23,11],1,7]"
      ]
    },
    {
      "cell_type": "code",
      "execution_count": 6,
      "metadata": {
        "id": "X_6sD9lKb1M3",
        "outputId": "5e1c69e5-2cf1-4490-96a7-5eeaa836bb61",
        "colab": {
          "base_uri": "https://localhost:8080/"
        }
      },
      "outputs": [
        {
          "output_type": "stream",
          "name": "stdout",
          "text": [
            "hello\n"
          ]
        }
      ],
      "source": [
        "lst = [1,2,[3,4],[5,[100,200,['hello']],23,11],1,7]                    \n",
        "print(lst[3][1][2][0])"
      ]
    },
    {
      "cell_type": "markdown",
      "metadata": {
        "id": "oR-IEpUZb1M3"
      },
      "source": [
        "** Given this nested dictionary grab the word \"hello\". Be prepared, this will be annoying/tricky **"
      ]
    },
    {
      "cell_type": "code",
      "execution_count": 8,
      "metadata": {
        "id": "LcQeD8Yvb1M3"
      },
      "outputs": [],
      "source": [
        "d = {'k1':[1,2,3,{'tricky':['oh','man','inception',{'target':[1,2,3,'hello']}]}]}"
      ]
    },
    {
      "cell_type": "code",
      "execution_count": 7,
      "metadata": {
        "id": "2AKleVb1b1M4",
        "outputId": "b62f1cc5-7bb3-47c6-fa3a-adb1074b084b",
        "colab": {
          "base_uri": "https://localhost:8080/"
        }
      },
      "outputs": [
        {
          "output_type": "stream",
          "name": "stdout",
          "text": [
            "hello\n"
          ]
        }
      ],
      "source": [
        "d = {'k1':[1,2,3,{'tricky':['oh','man','inception',{'target':[1,2,3,'hello']}]}]}          \n",
        "print(d['k1'][3]['tricky'][3]['target'][3])"
      ]
    },
    {
      "cell_type": "markdown",
      "metadata": {
        "id": "Yjc5z6ONb1M4"
      },
      "source": [
        "# 'hi' == 'bye'"
      ]
    },
    {
      "cell_type": "code",
      "execution_count": null,
      "metadata": {
        "id": "4Hjo6YqLb1M5"
      },
      "outputs": [],
      "source": [
        "# True or False  write your answer by using comment\n",
        "False"
      ]
    },
    {
      "cell_type": "markdown",
      "metadata": {
        "id": "7V9i6uAtb1M6"
      },
      "source": [
        "# write the table of 12 but print in reverse order\n",
        "12 X 10 =120 \n",
        "\n",
        "12 X 9  =108      ...Like this"
      ]
    },
    {
      "cell_type": "code",
      "execution_count": 11,
      "metadata": {
        "id": "CG7Znwo4b1M6",
        "colab": {
          "base_uri": "https://localhost:8080/"
        },
        "outputId": "d808f4c8-e4bf-4bb3-db44-b4e2e1689e6a"
      },
      "outputs": [
        {
          "output_type": "stream",
          "name": "stdout",
          "text": [
            "12 * 10 = 120\n",
            "12 * 9 = 108\n",
            "12 * 8 = 96\n",
            "12 * 7 = 84\n",
            "12 * 6 = 72\n",
            "12 * 5 = 60\n",
            "12 * 4 = 48\n",
            "12 * 3 = 36\n",
            "12 * 2 = 24\n",
            "12 * 1 = 12\n"
          ]
        }
      ],
      "source": [
        "for i in range(10,0,-1):      \n",
        " print(12, '*',i,'=', 12*i)\n"
      ]
    },
    {
      "cell_type": "markdown",
      "metadata": {
        "id": "qwSEzpATb1M7"
      },
      "source": [
        " # Q-\n",
        " (1 == 2) or (2 == 3) or (4 == 4)"
      ]
    },
    {
      "cell_type": "code",
      "execution_count": 12,
      "metadata": {
        "id": "spqmZpoxb1M7",
        "colab": {
          "base_uri": "https://localhost:8080/"
        },
        "outputId": "8e8390ec-b36f-4a81-baf1-48db7182694c"
      },
      "outputs": [
        {
          "output_type": "stream",
          "name": "stdout",
          "text": [
            "middle\n"
          ]
        }
      ],
      "source": [
        "# True of false  write your answer by using commen\n",
        "\n",
        "if 1 == 2:                       # if else statement \n",
        "\n",
        "    print('first')\n",
        "    \n",
        "elif 3 == 3:\n",
        "\n",
        "\tprint('middle')\n",
        "    \n",
        "else:\n",
        "\n",
        "    print('Last')\n"
      ]
    },
    {
      "cell_type": "markdown",
      "metadata": {
        "id": "ZrwpBK3Jb1M7"
      },
      "source": [
        "# Q-\n",
        "if 1 == 2:\n",
        "\n",
        "    print('first')\n",
        "    \n",
        "elif 3 == 3:\n",
        "\n",
        "\tprint('middle')\n",
        "    \n",
        "else:\n",
        "\"\n",
        "    print('Last')"
      ]
    },
    {
      "cell_type": "code",
      "execution_count": null,
      "metadata": {
        "id": "0DTcyxc4b1M7"
      },
      "outputs": [],
      "source": [
        "#output    "
      ]
    },
    {
      "cell_type": "markdown",
      "metadata": {
        "id": "qSib0FU5b1M7"
      },
      "source": [
        "# Q-\n",
        "seq = [1,2,3,4,5]\n",
        "\n",
        "for jelly in seq:\n",
        "\n",
        "    print(jelly+jelly)"
      ]
    },
    {
      "cell_type": "code",
      "execution_count": 13,
      "metadata": {
        "id": "FU-ATXLlb1M7",
        "colab": {
          "base_uri": "https://localhost:8080/"
        },
        "outputId": "d0d76ca4-c2e8-4848-bb72-a9ff670c5ac9"
      },
      "outputs": [
        {
          "output_type": "stream",
          "name": "stdout",
          "text": [
            "2\n",
            "4\n",
            "6\n",
            "8\n",
            "10\n"
          ]
        }
      ],
      "source": [
        "#output \n",
        "seq = [1,2,3,4,5]\n",
        "\n",
        "for jelly in seq:\n",
        "\n",
        "    print(jelly+jelly)\n",
        "     "
      ]
    },
    {
      "cell_type": "code",
      "execution_count": 14,
      "metadata": {
        "id": "JnbJQ6CNb1M7",
        "outputId": "4176b9d2-706a-437f-c49b-12348b31c940",
        "colab": {
          "base_uri": "https://localhost:8080/"
        }
      },
      "outputs": [
        {
          "output_type": "stream",
          "name": "stdout",
          "text": [
            "i is 1\n",
            "i is 2\n",
            "i is 3\n",
            "i is 4\n"
          ]
        }
      ],
      "source": [
        "# code to print output\n",
        "\n",
        "for i in range(1,5):\n",
        "  print(\"i is\",i)"
      ]
    },
    {
      "cell_type": "code",
      "execution_count": null,
      "metadata": {
        "id": "u36eyxPGb1M8"
      },
      "outputs": [],
      "source": [
        "# Question-\n",
        "x = [1,2,3,4]"
      ]
    },
    {
      "cell_type": "code",
      "execution_count": 15,
      "metadata": {
        "id": "T9iLBPVeb1M8",
        "outputId": "ea06262f-49ac-4e75-efa9-bcc91411c60b",
        "colab": {
          "base_uri": "https://localhost:8080/"
        }
      },
      "outputs": [
        {
          "output_type": "stream",
          "name": "stdout",
          "text": [
            "[1, 4, 9, 16, 25]\n"
          ]
        }
      ],
      "source": [
        "#write code to change this list into new one as output\n",
        "x = [1,2,3,4,5]\n",
        "result = [number ** 2 for number in x]\n",
        "\n",
        "print(result)"
      ]
    },
    {
      "cell_type": "code",
      "execution_count": null,
      "metadata": {
        "id": "FWB-HdHzb1M8"
      },
      "outputs": [],
      "source": [
        "# Define  Set in your words.\n",
        "# Answer\n",
        "Set is a collection of the unordered items in which each elements is unique.\n"
      ]
    },
    {
      "cell_type": "code",
      "execution_count": null,
      "metadata": {
        "id": "5_fgqhseb1M8"
      },
      "outputs": [],
      "source": [
        "# what do you think Array and List is same or not ? Explain -\n",
        "# Answer\n",
        "Array and list are not same because in list we can store only one type of data type value but in list we can store diffrent type of data value\n"
      ]
    },
    {
      "cell_type": "code",
      "execution_count": null,
      "metadata": {
        "id": "kqhZUQbCb1M8"
      },
      "outputs": [],
      "source": [
        "my_list = ['your first name', 'your last name']"
      ]
    },
    {
      "cell_type": "code",
      "execution_count": 16,
      "metadata": {
        "id": "5ijl8C5wb1M8",
        "colab": {
          "base_uri": "https://localhost:8080/"
        },
        "outputId": "2c53646b-11c7-487d-c235-5df7c03d827f"
      },
      "outputs": [
        {
          "output_type": "stream",
          "name": "stdout",
          "text": [
            "['your first name', 'your last name', 'library id']\n"
          ]
        }
      ],
      "source": [
        "# write the append to enter your libaray id \n",
        "# code-\n",
        "my_list = ['your first name', 'your last name']\n",
        "my_list.append(\"library id\")\n",
        "print(my_list)"
      ]
    },
    {
      "cell_type": "markdown",
      "metadata": {
        "id": "prU_BKn2b1M9"
      },
      "source": [
        "## Good Job"
      ]
    }
  ],
  "metadata": {
    "kernelspec": {
      "display_name": "Python 3 (ipykernel)",
      "language": "python",
      "name": "python3"
    },
    "language_info": {
      "codemirror_mode": {
        "name": "ipython",
        "version": 3
      },
      "file_extension": ".py",
      "mimetype": "text/x-python",
      "name": "python",
      "nbconvert_exporter": "python",
      "pygments_lexer": "ipython3",
      "version": "3.9.12"
    },
    "colab": {
      "provenance": []
    }
  },
  "nbformat": 4,
  "nbformat_minor": 0
}