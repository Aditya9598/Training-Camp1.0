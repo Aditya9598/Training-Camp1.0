{
  "cells": [
    {
      "cell_type": "markdown",
      "metadata": {
        "id": "6SODhXTZPShH"
      },
      "source": [
        "\n",
        "___\n",
        "# Python  Exercises "
      ]
    },
    {
      "cell_type": "markdown",
      "metadata": {
        "id": "HBOzLdrePShM"
      },
      "source": [
        "## Exercises\n",
        "\n",
        "Answer the questions or complete the tasks outlined in bold below, use the specific method described if applicable."
      ]
    },
    {
      "cell_type": "markdown",
      "metadata": {
        "id": "Eid7VXi-PShM"
      },
      "source": [
        "** What is 7 to the power of 4?**"
      ]
    },
    {
      "cell_type": "code",
      "execution_count": null,
      "metadata": {
        "colab": {
          "base_uri": "https://localhost:8080/"
        },
        "id": "ygJukp5BPShN",
        "outputId": "b0a44e4b-bedb-4869-9d97-0bb1d3ffdb66"
      },
      "outputs": [
        {
          "output_type": "execute_result",
          "data": {
            "text/plain": [
              "2401"
            ]
          },
          "metadata": {},
          "execution_count": 2
        }
      ],
      "source": [
        "s=7*7*7*7\n",
        "s"
      ]
    },
    {
      "cell_type": "markdown",
      "metadata": {
        "id": "1oweXLQDPShO"
      },
      "source": [
        "** Split this string:**\n",
        "\n",
        "    s = \"Hi there Sam!\"\n",
        "    \n",
        "**into a list. **"
      ]
    },
    {
      "cell_type": "code",
      "execution_count": null,
      "metadata": {
        "colab": {
          "base_uri": "https://localhost:8080/"
        },
        "id": "UovYtN9aPShO",
        "outputId": "cb4ecc61-7b99-4b49-bda5-1ce5e87c7c37"
      },
      "outputs": [
        {
          "output_type": "stream",
          "name": "stdout",
          "text": [
            "['Hi', 'there', 'Sam!']\n"
          ]
        }
      ],
      "source": [
        "s=\"Hi there Sam!\"\n",
        "str=s.split(\" \")\n",
        "print (str)\n"
      ]
    },
    {
      "cell_type": "code",
      "execution_count": null,
      "metadata": {
        "id": "bH_FEnBsPShP"
      },
      "outputs": [],
      "source": [
        "                     #try using spilt function."
      ]
    },
    {
      "cell_type": "markdown",
      "metadata": {
        "id": "B2a7CC9wPShQ"
      },
      "source": [
        "** Given the variables:**\n",
        "\n",
        "    planet = \"Earth\"\n",
        "    diameter = 12742\n",
        "\n",
        "** Use .format() to print the following string: **\n",
        "\n",
        "    The diameter of Earth is 12742 kilometers."
      ]
    },
    {
      "cell_type": "code",
      "execution_count": null,
      "metadata": {
        "id": "O9ZvjdUOPShQ",
        "colab": {
          "base_uri": "https://localhost:8080/"
        },
        "outputId": "c4ada537-b6bc-454d-d573-9ef1f3760774"
      },
      "outputs": [
        {
          "output_type": "stream",
          "name": "stdout",
          "text": [
            "The diameter of Earth is 12742\n"
          ]
        }
      ],
      "source": [
        "planet=\"Earth\"\n",
        "diameter =12742\n",
        "print(\"The diameter of {} is {}\".format(planet,diameter))"
      ]
    },
    {
      "cell_type": "markdown",
      "metadata": {
        "id": "fw2OI2gGPShR"
      },
      "source": [
        "** Given this nested list, use indexing to grab the word \"hello\" **"
      ]
    },
    {
      "cell_type": "code",
      "execution_count": null,
      "metadata": {
        "id": "9lJf3boQPShR"
      },
      "outputs": [],
      "source": [
        "lst = [1,2,[3,4],[5,[100,200,['hello']],23,11],1,7]\n"
      ]
    },
    {
      "cell_type": "code",
      "execution_count": null,
      "metadata": {
        "id": "aOGb531uPShR",
        "outputId": "bae84778-78ed-40de-d8da-58c78900348b",
        "colab": {
          "base_uri": "https://localhost:8080/"
        }
      },
      "outputs": [
        {
          "output_type": "execute_result",
          "data": {
            "text/plain": [
              "['hello']"
            ]
          },
          "metadata": {},
          "execution_count": 26
        }
      ],
      "source": [
        "lst=[1,2,[3,4],[5,[100,200,['hello']],23,11],1,7]\n",
        "l=len(lst)\n",
        "lst1=lst[3]\n",
        "l2=len(lst1)\n",
        "lst2=lst1[1]\n",
        "lst2[2]\n"
      ]
    },
    {
      "cell_type": "markdown",
      "metadata": {
        "id": "7kfhLPuVPShS"
      },
      "source": [
        "** Given this nested dictionary grab the word \"hello\". Be prepared, this will be annoying/tricky **"
      ]
    },
    {
      "cell_type": "code",
      "execution_count": 5,
      "metadata": {
        "id": "U6JRUoq7PShS"
      },
      "outputs": [],
      "source": [
        "d = {'k1':[1,2,3,{'tricky':['oh','man','inception',{'target':[1,2,3,'hello']}]}]}"
      ]
    },
    {
      "cell_type": "code",
      "execution_count": 14,
      "metadata": {
        "id": "sTDzrh84PShS",
        "colab": {
          "base_uri": "https://localhost:8080/",
          "height": 36
        },
        "outputId": "03c52b90-c1f8-46ae-cfb9-9d87f14bdaa5"
      },
      "outputs": [
        {
          "output_type": "execute_result",
          "data": {
            "text/plain": [
              "'hello'"
            ],
            "application/vnd.google.colaboratory.intrinsic+json": {
              "type": "string"
            }
          },
          "metadata": {},
          "execution_count": 14
        }
      ],
      "source": [
        "d1=d['k1']\n",
        "d2=d1[3]\n",
        "d3=d2['tricky']\n",
        "d4=d3[3]\n",
        "d5=d4['target']\n",
        "d5[3]"
      ]
    },
    {
      "cell_type": "markdown",
      "metadata": {
        "id": "eBRZ8i1LPShS"
      },
      "source": [
        "# 'hi' == 'bye'"
      ]
    },
    {
      "cell_type": "code",
      "execution_count": null,
      "metadata": {
        "id": "gqA1I4j9PShS"
      },
      "outputs": [],
      "source": [
        "# True or False  write your answer by using comment\n",
        "#false"
      ]
    },
    {
      "cell_type": "markdown",
      "metadata": {
        "id": "rt1Tgrw0PShT"
      },
      "source": [
        "# write the table of 12 but print in reverse order\n",
        "12 X 10 =120 \n",
        "\n",
        "12 X 9  =108      ...Like this"
      ]
    },
    {
      "cell_type": "code",
      "execution_count": null,
      "metadata": {
        "id": "Oy5Qbb1VPShT",
        "colab": {
          "base_uri": "https://localhost:8080/"
        },
        "outputId": "60d3ab9b-9410-4fdf-8ed8-fe8a9ff58e3d"
      },
      "outputs": [
        {
          "output_type": "stream",
          "name": "stdout",
          "text": [
            "12 * 10 = 120 \n",
            "12 * 9 = 108 \n",
            "12 * 8 = 96 \n",
            "12 * 7 = 84 \n",
            "12 * 6 = 72 \n",
            "12 * 5 = 60 \n",
            "12 * 4 = 48 \n",
            "12 * 3 = 36 \n",
            "12 * 2 = 24 \n",
            "12 * 1 = 12 \n"
          ]
        }
      ],
      "source": [
        "m=12\n",
        "for i in range(10,0,-1):\n",
        "  print(\"{} * {} = {} \".format(m,i,m*i))"
      ]
    },
    {
      "cell_type": "markdown",
      "metadata": {
        "id": "dFCUYtRPPShT"
      },
      "source": [
        " # Q-\n",
        " (1 == 2) or (2 == 3) or (4 == 4)"
      ]
    },
    {
      "cell_type": "code",
      "execution_count": null,
      "metadata": {
        "id": "v-ojk6lLPShT"
      },
      "outputs": [],
      "source": [
        "# True of false  write your answer by using comment\n",
        "#true"
      ]
    },
    {
      "cell_type": "markdown",
      "metadata": {
        "id": "elpoCdjSPShT"
      },
      "source": [
        "# Q-\n",
        "if 1 == 2:\n",
        "\n",
        "    print('first')\n",
        "    \n",
        "elif 3 == 3:\n",
        "\n",
        "\tprint('middle')\n",
        "    \n",
        "else:\n",
        "\"\n",
        "    print('Last')"
      ]
    },
    {
      "cell_type": "code",
      "execution_count": null,
      "metadata": {
        "id": "mdT6AwiDPShU"
      },
      "outputs": [],
      "source": [
        "#output    \n",
        "  #middle"
      ]
    },
    {
      "cell_type": "markdown",
      "metadata": {
        "id": "y3bwUe3KPShU"
      },
      "source": [
        "# Q-\n",
        "seq = [1,2,3,4,5]\n",
        "\n",
        "for jelly in seq:\n",
        "\n",
        "    print(jelly+jelly)"
      ]
    },
    {
      "cell_type": "code",
      "source": [
        "seq=[1,2,3,4,5]\n",
        "for jelly in seq:\n",
        "  print(jelly+jelly)"
      ],
      "metadata": {
        "colab": {
          "base_uri": "https://localhost:8080/"
        },
        "id": "N-6rtG5kWKz7",
        "outputId": "fa11bbab-2ef8-4837-f78d-f317f0851f9d"
      },
      "execution_count": null,
      "outputs": [
        {
          "output_type": "stream",
          "name": "stdout",
          "text": [
            "2\n",
            "4\n",
            "6\n",
            "8\n",
            "10\n"
          ]
        }
      ]
    },
    {
      "cell_type": "code",
      "execution_count": null,
      "metadata": {
        "id": "LzYUHxZAPShU"
      },
      "outputs": [],
      "source": [
        "# output\n",
        "2\n",
        "4\n",
        "6\n",
        "8\n",
        "10"
      ]
    },
    {
      "cell_type": "code",
      "execution_count": null,
      "metadata": {
        "id": "B0VpTLYwPShU",
        "outputId": "3f91ddc0-503e-4675-e3f2-080fd3ba0aa8",
        "colab": {
          "base_uri": "https://localhost:8080/"
        }
      },
      "outputs": [
        {
          "output_type": "stream",
          "name": "stdout",
          "text": [
            "2\n",
            "4\n",
            "6\n",
            "8\n",
            "10\n"
          ]
        }
      ],
      "source": [
        "# code to print output\n",
        "for i in range(1,6): \n",
        "  print( i*2)\n"
      ]
    },
    {
      "cell_type": "code",
      "execution_count": null,
      "metadata": {
        "id": "7qchP7R0PShU"
      },
      "outputs": [],
      "source": [
        "# Question-\n",
        "x = [1,2,3,4]"
      ]
    },
    {
      "cell_type": "code",
      "execution_count": null,
      "metadata": {
        "id": "NwKWiS_UPShV",
        "colab": {
          "base_uri": "https://localhost:8080/"
        },
        "outputId": "c05d5cca-ac40-44b2-86cc-461b72e18df0"
      },
      "outputs": [
        {
          "output_type": "stream",
          "name": "stdout",
          "text": [
            "[1, 4, 9, 16]\n"
          ]
        }
      ],
      "source": [
        "#write code to change this list into new one as output\n",
        "x=[1,2,3,4]\n",
        "ret=[]\n",
        "for i in range(4):\n",
        "  ret.append(x[i]**2)\n",
        "print (ret)\n"
      ]
    },
    {
      "cell_type": "code",
      "execution_count": null,
      "metadata": {
        "id": "q_75bGYGPShV"
      },
      "outputs": [],
      "source": [
        "# Define  Set in your words.\n",
        "# Answer\n",
        "# set is a kind of a list we say or smiliar to list but the items we store in set is immutable which means they are not changeable but we can add or subtaract items in set."
      ]
    },
    {
      "cell_type": "code",
      "execution_count": null,
      "metadata": {
        "id": "1sC10Lt7PShV"
      },
      "outputs": [],
      "source": [
        "# what do you think Array and List is same or not ? Explain -\n",
        "# Answer\n",
        "#not same\n",
        "#list is used to store elements of  different data types while array is used to store elements of same data types. "
      ]
    },
    {
      "cell_type": "code",
      "execution_count": null,
      "metadata": {
        "id": "2ek7owGLPShV"
      },
      "outputs": [],
      "source": [
        "my_list = ['your first name', 'your last name']"
      ]
    },
    {
      "cell_type": "code",
      "execution_count": null,
      "metadata": {
        "id": "KtcFzaI9PShV",
        "colab": {
          "base_uri": "https://localhost:8080/"
        },
        "outputId": "c4ba0598-0bd1-4a69-e8fb-57190f5d0558"
      },
      "outputs": [
        {
          "output_type": "execute_result",
          "data": {
            "text/plain": [
              "['Swatantra', 'Agarwal', 'CSE(AI&ML)1078']"
            ]
          },
          "metadata": {},
          "execution_count": 19
        }
      ],
      "source": [
        "# write the append to enter your libaray id \n",
        "# code-\n",
        "my_list=['Swatantra','Agarwal']\n",
        "my_list.append('CSE(AI&ML)1078')\n",
        "my_list"
      ]
    },
    {
      "cell_type": "markdown",
      "metadata": {
        "id": "zO2Br2WGPShV"
      },
      "source": [
        "## Good Job"
      ]
    }
  ],
  "metadata": {
    "kernelspec": {
      "display_name": "Python 3 (ipykernel)",
      "language": "python",
      "name": "python3"
    },
    "language_info": {
      "codemirror_mode": {
        "name": "ipython",
        "version": 3
      },
      "file_extension": ".py",
      "mimetype": "text/x-python",
      "name": "python",
      "nbconvert_exporter": "python",
      "pygments_lexer": "ipython3",
      "version": "3.9.12"
    },
    "colab": {
      "provenance": []
    }
  },
  "nbformat": 4,
  "nbformat_minor": 0
}