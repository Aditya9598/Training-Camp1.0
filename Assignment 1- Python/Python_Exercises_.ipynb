{
  "cells": [
    {
      "cell_type": "markdown",
      "metadata": {
        "id": "h_EwwZrP1R1C"
      },
      "source": [
        "\n",
        "___\n",
        "# Python  Exercises "
      ]
    },
    {
      "cell_type": "markdown",
      "metadata": {
        "id": "bBEj0NWc1R1E"
      },
      "source": [
        "## Exercises\n",
        "\n",
        "Answer the questions or complete the tasks outlined in bold below, use the specific method described if applicable."
      ]
    },
    {
      "cell_type": "markdown",
      "metadata": {
        "id": "eD28OIJQ1R1E"
      },
      "source": [
        "** What is 7 to the power of 4?**"
      ]
    },
    {
      "cell_type": "code",
      "execution_count": 1,
      "metadata": {
        "colab": {
          "base_uri": "https://localhost:8080/"
        },
        "id": "LbXkFKgt1R1F",
        "outputId": "119d0a66-a635-46cb-c719-510ccd3499df"
      },
      "outputs": [
        {
          "output_type": "stream",
          "name": "stdout",
          "text": [
            "2401\n"
          ]
        }
      ],
      "source": [
        "print(7**4)"
      ]
    },
    {
      "cell_type": "markdown",
      "metadata": {
        "id": "Z_SFJmzz1R1F"
      },
      "source": [
        "** Split this string:**\n",
        "\n",
        "    s = \"Hi there Sam!\"\n",
        "    \n",
        "**into a list. **"
      ]
    },
    {
      "cell_type": "code",
      "execution_count": 2,
      "metadata": {
        "colab": {
          "base_uri": "https://localhost:8080/"
        },
        "id": "sx84AmcN1R1F",
        "outputId": "3088b51a-24f0-40dd-ff58-19e2e296f937"
      },
      "outputs": [
        {
          "output_type": "stream",
          "name": "stdout",
          "text": [
            "['Hi there Sam!']\n"
          ]
        }
      ],
      "source": [
        "s = \"Hi there Sam!\"\n",
        "print([s])"
      ]
    },
    {
      "cell_type": "code",
      "execution_count": 3,
      "metadata": {
        "colab": {
          "base_uri": "https://localhost:8080/"
        },
        "id": "oMZXd62L1R1G",
        "outputId": "a77f812f-458a-4545-8b45-b2d0477e53b1"
      },
      "outputs": [
        {
          "output_type": "stream",
          "name": "stdout",
          "text": [
            "['Hi', 'there', 'Sam!']\n"
          ]
        }
      ],
      "source": [
        "print(s.split())                #try using spilt function."
      ]
    },
    {
      "cell_type": "markdown",
      "metadata": {
        "id": "-BM4tAbT1R1G"
      },
      "source": [
        "** Given the variables:**\n",
        "\n",
        "    planet = \"Earth\"\n",
        "    diameter = 12742\n",
        "\n",
        "** Use .format() to print the following string: **\n",
        "\n",
        "    The diameter of Earth is 12742 kilometers."
      ]
    },
    {
      "cell_type": "code",
      "execution_count": 4,
      "metadata": {
        "id": "Yu67VLDJ1R1G"
      },
      "outputs": [],
      "source": [
        "planet=\"Earth\"\n",
        "diameter=12742"
      ]
    },
    {
      "cell_type": "code",
      "execution_count": 5,
      "metadata": {
        "colab": {
          "base_uri": "https://localhost:8080/"
        },
        "id": "bq_jPwqB1R1G",
        "outputId": "8650e586-ae0a-4a08-8abf-40f995d74742"
      },
      "outputs": [
        {
          "output_type": "stream",
          "name": "stdout",
          "text": [
            "The diameter of Earth is 12742 kilometers.\n"
          ]
        }
      ],
      "source": [
        "print(\"The diameter of {} is {} kilometers.\".format(planet,diameter))"
      ]
    },
    {
      "cell_type": "markdown",
      "metadata": {
        "id": "tLvrKF0-1R1G"
      },
      "source": [
        "** Given this nested list, use indexing to grab the word \"hello\" **"
      ]
    },
    {
      "cell_type": "code",
      "execution_count": 8,
      "metadata": {
        "id": "Tvpqzhqs1R1G"
      },
      "outputs": [],
      "source": [
        "lst = [1,2,[3,4],[5,[100,200,['hello']],23,11],1,7]"
      ]
    },
    {
      "cell_type": "code",
      "execution_count": 9,
      "metadata": {
        "colab": {
          "base_uri": "https://localhost:8080/",
          "height": 35
        },
        "id": "aD3RBsOB1R1G",
        "outputId": "799ad468-ad42-4e7d-9dc1-2fbab0658f9c"
      },
      "outputs": [
        {
          "output_type": "execute_result",
          "data": {
            "text/plain": [
              "'hello'"
            ],
            "application/vnd.google.colaboratory.intrinsic+json": {
              "type": "string"
            }
          },
          "metadata": {},
          "execution_count": 9
        }
      ],
      "source": [
        "lst[3][1][2][0]"
      ]
    },
    {
      "cell_type": "markdown",
      "metadata": {
        "id": "3BEQFMHi1R1H"
      },
      "source": [
        "** Given this nested dictionary grab the word \"hello\". Be prepared, this will be annoying/tricky **"
      ]
    },
    {
      "cell_type": "code",
      "execution_count": 10,
      "metadata": {
        "id": "W7fW_lq-1R1H"
      },
      "outputs": [],
      "source": [
        "d = {'k1':[1,2,3,{'tricky':['oh','man','inception',{'target':[1,2,3,'hello']}]}]}"
      ]
    },
    {
      "cell_type": "code",
      "execution_count": 11,
      "metadata": {
        "colab": {
          "base_uri": "https://localhost:8080/",
          "height": 35
        },
        "id": "qaSPo8mf1R1H",
        "outputId": "1b4ef452-a5fe-4553-d22c-dff5c8896b63"
      },
      "outputs": [
        {
          "output_type": "execute_result",
          "data": {
            "text/plain": [
              "'hello'"
            ],
            "application/vnd.google.colaboratory.intrinsic+json": {
              "type": "string"
            }
          },
          "metadata": {},
          "execution_count": 11
        }
      ],
      "source": [
        "d['k1'][3]['tricky'][3]['target'][3]\n"
      ]
    },
    {
      "cell_type": "markdown",
      "metadata": {
        "id": "IXjenQlq1R1H"
      },
      "source": [
        "# 'hi' == 'bye'"
      ]
    },
    {
      "cell_type": "code",
      "execution_count": 12,
      "metadata": {
        "id": "B4A5GxxG1R1H"
      },
      "outputs": [],
      "source": [
        "# False "
      ]
    },
    {
      "cell_type": "markdown",
      "metadata": {
        "id": "Sw9RPOOD1R1H"
      },
      "source": [
        "# write the table of 12 but print in reverse order\n",
        "12 X 10 =120 \n",
        "\n",
        "12 X 9  =108      ...Like this"
      ]
    },
    {
      "cell_type": "code",
      "execution_count": 18,
      "metadata": {
        "colab": {
          "base_uri": "https://localhost:8080/"
        },
        "id": "sLT6pbu-1R1H",
        "outputId": "7baa57f4-c05f-4cd3-fbda-14be6873fa14"
      },
      "outputs": [
        {
          "output_type": "stream",
          "name": "stdout",
          "text": [
            "12 X 10 = 120\n",
            "12 X 9 = 108\n",
            "12 X 8 = 96\n",
            "12 X 7 = 84\n",
            "12 X 6 = 72\n",
            "12 X 5 = 60\n",
            "12 X 4 = 48\n",
            "12 X 3 = 36\n",
            "12 X 2 = 24\n",
            "12 X 1 = 12\n"
          ]
        }
      ],
      "source": [
        "for multiple in range(10,0,-1):\n",
        "  x=12*multiple\n",
        "  print(\"12 X\",multiple,\"=\",x)"
      ]
    },
    {
      "cell_type": "markdown",
      "metadata": {
        "id": "JcHHfX7t1R1H"
      },
      "source": [
        " # Q-\n",
        " (1 == 2) or (2 == 3) or (4 == 4)"
      ]
    },
    {
      "cell_type": "code",
      "execution_count": 19,
      "metadata": {
        "id": "maamTLob1R1H"
      },
      "outputs": [],
      "source": [
        "# True \n"
      ]
    },
    {
      "cell_type": "markdown",
      "metadata": {
        "id": "POF6Bfr01R1H"
      },
      "source": [
        "# Q-\n",
        "if 1 == 2:\n",
        "\n",
        "    print('first')\n",
        "    \n",
        "elif 3 == 3:\n",
        "\n",
        "\tprint('middle')\n",
        "    \n",
        "else:\n",
        "\"\n",
        "    print('Last')"
      ]
    },
    {
      "cell_type": "code",
      "execution_count": 21,
      "metadata": {
        "id": "EXqEO7y_1R1I"
      },
      "outputs": [],
      "source": [
        "#middle (as 3 is always equal to itself)"
      ]
    },
    {
      "cell_type": "markdown",
      "metadata": {
        "id": "IUF3rkW21R1I"
      },
      "source": [
        "# Q-\n",
        "seq = [1,2,3,4,5]\n",
        "\n",
        "for jelly in seq:\n",
        "\n",
        "    print(jelly+jelly)"
      ]
    },
    {
      "cell_type": "code",
      "execution_count": 25,
      "metadata": {
        "colab": {
          "base_uri": "https://localhost:8080/"
        },
        "id": "qbaJNYXc1R1I",
        "outputId": "f74511c1-243e-45c2-80d2-de52cae915b8"
      },
      "outputs": [
        {
          "output_type": "stream",
          "name": "stdout",
          "text": [
            "2\n",
            "4\n",
            "6\n",
            "8\n",
            "10\n"
          ]
        }
      ],
      "source": [
        "#output = 2,4,6,8,10\n",
        "seq = [1,2,3,4,5]\n",
        "for jelly in seq:\n",
        "  print(jelly + jelly)"
      ]
    },
    {
      "cell_type": "code",
      "execution_count": 26,
      "metadata": {
        "colab": {
          "base_uri": "https://localhost:8080/"
        },
        "id": "2QklsLgL1R1I",
        "outputId": "7dc4a7e6-fbb3-4171-c0e8-797883af594b"
      },
      "outputs": [
        {
          "output_type": "stream",
          "name": "stdout",
          "text": [
            "2\n",
            "4\n",
            "6\n",
            "8\n",
            "10\n"
          ]
        }
      ],
      "source": [
        "seq = [1,2,3,4,5]\n",
        "for jelly in seq:\n",
        "  print(jelly + jelly)"
      ]
    },
    {
      "cell_type": "code",
      "execution_count": null,
      "metadata": {
        "id": "Lvd9XBJo1R1I"
      },
      "outputs": [],
      "source": [
        "# Question-\n",
        "x = [1,2,3,4]"
      ]
    },
    {
      "cell_type": "code",
      "execution_count": 27,
      "metadata": {
        "colab": {
          "base_uri": "https://localhost:8080/"
        },
        "id": "yTiDW-ab1R1I",
        "outputId": "cec26814-6f1b-4842-8eef-8da2d242566a"
      },
      "outputs": [
        {
          "output_type": "stream",
          "name": "stdout",
          "text": [
            "1\n",
            "4\n",
            "9\n",
            "16\n",
            "25\n"
          ]
        }
      ],
      "source": [
        "#write code to change this list into new one as output\n",
        "yoyo = [1,2,3,4]\n",
        "for numb in seq:\n",
        "  print(numb*numb)"
      ]
    },
    {
      "cell_type": "code",
      "execution_count": 28,
      "metadata": {
        "id": "ckvZHH-z1R1I"
      },
      "outputs": [],
      "source": [
        "# Define  Set in your words.\n",
        "# according to me sets are used in python to store data . in sets duplication is not allowed.\n",
        "# in sets data is unorganised. we also cant change data in set if a set is created"
      ]
    },
    {
      "cell_type": "code",
      "execution_count": 29,
      "metadata": {
        "id": "O3SpePWh1R1I"
      },
      "outputs": [],
      "source": [
        "# what do you think Array and List is same or not ? Explain -\n",
        "# major difference between array and list is in array we can not store multiple data types where as in list we can store multiple data types"
      ]
    },
    {
      "cell_type": "code",
      "execution_count": 32,
      "metadata": {
        "id": "xBr2pPai1R1I"
      },
      "outputs": [],
      "source": [
        "my_list = ['Pranshu', 'Gupta']"
      ]
    },
    {
      "cell_type": "code",
      "execution_count": 33,
      "metadata": {
        "colab": {
          "base_uri": "https://localhost:8080/"
        },
        "id": "5wRfmzYE1R1I",
        "outputId": "4b09da1c-b481-474c-f85d-fb80e4f55cbc"
      },
      "outputs": [
        {
          "output_type": "stream",
          "name": "stdout",
          "text": [
            "['Pranshu', 'Gupta', '2226csit1122']\n"
          ]
        }
      ],
      "source": [
        "# write the append to enter your libaray id \n",
        "lib_id = '2226csit1122'\n",
        "my_list.append(lib_id)\n",
        "print(my_list)\n"
      ]
    },
    {
      "cell_type": "markdown",
      "metadata": {
        "id": "zWYh-Y4E1R1I"
      },
      "source": [
        "## Good Job"
      ]
    }
  ],
  "metadata": {
    "kernelspec": {
      "display_name": "Python 3 (ipykernel)",
      "language": "python",
      "name": "python3"
    },
    "language_info": {
      "codemirror_mode": {
        "name": "ipython",
        "version": 3
      },
      "file_extension": ".py",
      "mimetype": "text/x-python",
      "name": "python",
      "nbconvert_exporter": "python",
      "pygments_lexer": "ipython3",
      "version": "3.9.12"
    },
    "colab": {
      "provenance": []
    }
  },
  "nbformat": 4,
  "nbformat_minor": 0
}