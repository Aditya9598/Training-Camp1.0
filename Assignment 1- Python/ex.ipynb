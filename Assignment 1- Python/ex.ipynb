{
  "cells": [
    {
      "cell_type": "code",
      "execution_count": null,
      "metadata": {
        "colab": {
          "base_uri": "https://localhost:8080/"
        },
        "id": "H1B-WFOxjUHZ",
        "outputId": "90925763-6627-4d6d-b22d-6ebf7c983474"
      },
      "outputs": [
        {
          "name": "stdout",
          "output_type": "stream",
          "text": [
            "enter the base value7\n",
            "enter the exponent value4\n",
            "answer is  2401\n"
          ]
        }
      ],
      "source": [
        "base = input(\"enter the base value\")                        # code of 7 to the power of 4\n",
        "exponent = input(\"enter the exponent value\")\n",
        "answer = int(base)**int(exponent)\n",
        "print(\"answer is \",answer)"
      ]
    },
    {
      "cell_type": "code",
      "execution_count": null,
      "metadata": {
        "colab": {
          "base_uri": "https://localhost:8080/"
        },
        "id": "REMSOACrqmRm",
        "outputId": "b82be49e-7a02-486e-ac89-17a839297670"
      },
      "outputs": [
        {
          "name": "stdout",
          "output_type": "stream",
          "text": [
            "Hi there Sam!\n"
          ]
        }
      ],
      "source": [
        "text = \"Hi there Sam!\"\n",
        "print(text)"
      ]
    },
    {
      "cell_type": "code",
      "execution_count": null,
      "metadata": {
        "colab": {
          "base_uri": "https://localhost:8080/"
        },
        "id": "v13UqV5Jrq4h",
        "outputId": "955fec63-df56-4767-b732-55321bd5a42a"
      },
      "outputs": [
        {
          "name": "stdout",
          "output_type": "stream",
          "text": [
            "['Hi', 'there', 'Sam!']\n"
          ]
        }
      ],
      "source": [
        "print(text.split())                   # split the string"
      ]
    },
    {
      "cell_type": "code",
      "execution_count": null,
      "metadata": {
        "colab": {
          "base_uri": "https://localhost:8080/"
        },
        "id": "Ca_jTPKcr1vm",
        "outputId": "e4665c14-56b2-4aad-c48e-b51261c5c8b2"
      },
      "outputs": [
        {
          "output_type": "stream",
          "name": "stdout",
          "text": [
            "The diameter of Earth is 12742 \n"
          ]
        }
      ],
      "source": [
        "planet = \"Earth\"                                                #Enter the planet name and diameter \n",
        "diameter = 12742\n",
        "print(\"The diameter of {} is {} \".format(planet,diameter))"
      ]
    },
    {
      "cell_type": "code",
      "source": [
        "lst = [1,2,[3,4],[5,[100,200,['hello']],23,11],1,7]                     # Grab the world hello from Nested list\n",
        "\n",
        "print(lst[3][1][2][0])"
      ],
      "metadata": {
        "colab": {
          "base_uri": "https://localhost:8080/"
        },
        "id": "P-ZGwii2xqfm",
        "outputId": "edd3042e-c63c-4573-f61c-77abd2a1a4fe"
      },
      "execution_count": null,
      "outputs": [
        {
          "output_type": "stream",
          "name": "stdout",
          "text": [
            "hello\n"
          ]
        }
      ]
    },
    {
      "cell_type": "code",
      "source": [
        "d = {'k1':[1,2,3,{'tricky':['oh','man','inception',{'target':[1,2,3,'hello']}]}]}           #Grab the world through divtionary\n",
        "\n",
        "print(d['k1'][3]['tricky'][3]['target'][3])\n"
      ],
      "metadata": {
        "id": "ubE50wulx2R4",
        "colab": {
          "base_uri": "https://localhost:8080/"
        },
        "outputId": "11f97294-d765-4105-c1dd-a2f52145694e"
      },
      "execution_count": null,
      "outputs": [
        {
          "output_type": "stream",
          "name": "stdout",
          "text": [
            "hello\n"
          ]
        }
      ]
    },
    {
      "cell_type": "code",
      "source": [
        " for i in range(10,0,-1):        #table of 12 in reverse order\n",
        "     print(12, '*',i,'=', 12*i)\n"
      ],
      "metadata": {
        "id": "qnRKjPqN0huK",
        "colab": {
          "base_uri": "https://localhost:8080/"
        },
        "outputId": "80786b5d-964f-4021-c5f3-199f1a7100bd"
      },
      "execution_count": null,
      "outputs": [
        {
          "output_type": "stream",
          "name": "stdout",
          "text": [
            "12 * 10 = 120\n",
            "12 * 9 = 108\n",
            "12 * 8 = 96\n",
            "12 * 7 = 84\n",
            "12 * 6 = 72\n",
            "12 * 5 = 60\n",
            "12 * 4 = 48\n",
            "12 * 3 = 36\n",
            "12 * 2 = 24\n",
            "12 * 1 = 12\n"
          ]
        }
      ]
    },
    {
      "cell_type": "markdown",
      "source": [
        "# hi==byee \n",
        "false"
      ],
      "metadata": {
        "id": "CwXdfRRSle5y"
      }
    },
    {
      "cell_type": "code",
      "source": [],
      "metadata": {
        "id": "DKfQFbI-lqJU"
      },
      "execution_count": null,
      "outputs": []
    },
    {
      "cell_type": "code",
      "source": [
        "\n",
        "if 1 == 2:                       # if else statement \n",
        "\n",
        "    print('first')\n",
        "    \n",
        "elif 3 == 3:\n",
        "\n",
        "\tprint('middle')\n",
        "    \n",
        "else:\n",
        "\n",
        "    print('Last')\n",
        "\n",
        "\n"
      ],
      "metadata": {
        "colab": {
          "base_uri": "https://localhost:8080/"
        },
        "id": "I20jd-6G0uau",
        "outputId": "6ac8df79-fed7-4104-a349-93fbfa464c70"
      },
      "execution_count": null,
      "outputs": [
        {
          "output_type": "stream",
          "name": "stdout",
          "text": [
            "middle\n"
          ]
        }
      ]
    },
    {
      "cell_type": "code",
      "source": [
        "seq = [1,2,3,4,5]\n",
        "\n",
        "for jelly in seq:\n",
        "\n",
        "    print(jelly+jelly)"
      ],
      "metadata": {
        "colab": {
          "base_uri": "https://localhost:8080/"
        },
        "id": "dlwWeR7rYU9V",
        "outputId": "f8b37dc8-9d2f-4e0e-b521-baa0c7110163"
      },
      "execution_count": null,
      "outputs": [
        {
          "output_type": "stream",
          "name": "stdout",
          "text": [
            "2\n",
            "4\n",
            "6\n",
            "8\n",
            "10\n"
          ]
        }
      ]
    },
    {
      "cell_type": "code",
      "source": [
        "for i in range(1,5):\n",
        "  print(\"i is\",i)\n"
      ],
      "metadata": {
        "colab": {
          "base_uri": "https://localhost:8080/"
        },
        "id": "Y9i-sgi7ZCkd",
        "outputId": "93733e3e-ba25-48b4-a153-1d4d147ad883"
      },
      "execution_count": null,
      "outputs": [
        {
          "output_type": "stream",
          "name": "stdout",
          "text": [
            "i is 1\n",
            "i is 2\n",
            "i is 3\n",
            "i is 4\n"
          ]
        }
      ]
    },
    {
      "cell_type": "code",
      "source": [
        "x = [1,2,3,4,5]\n",
        "result = [number ** 2 for number in x]\n",
        "\n",
        "print(result)"
      ],
      "metadata": {
        "colab": {
          "base_uri": "https://localhost:8080/"
        },
        "id": "5xwbDzYaZPjY",
        "outputId": "bfdeb348-1961-4374-f31e-0ffc4158a94b"
      },
      "execution_count": null,
      "outputs": [
        {
          "output_type": "stream",
          "name": "stdout",
          "text": [
            "[1, 4, 9, 16, 25]\n"
          ]
        }
      ]
    },
    {
      "cell_type": "code",
      "source": [],
      "metadata": {
        "id": "V6XLaPqmas1h"
      },
      "execution_count": null,
      "outputs": []
    },
    {
      "cell_type": "markdown",
      "source": [
        "\n",
        "\n",
        "*   Set is a collection of the unordered items in which each elements is unique.\n",
        " \n",
        "\n"
      ],
      "metadata": {
        "id": "Jh-C7AYpdoQw"
      }
    },
    {
      "cell_type": "code",
      "source": [],
      "metadata": {
        "id": "rKuR0YZWeN0S"
      },
      "execution_count": null,
      "outputs": []
    },
    {
      "cell_type": "markdown",
      "source": [
        "\n",
        "\n",
        "*  Array  and list are not same because in list we can store only one type of data type value but in list we can store diffrent type of data value\n",
        "\n"
      ],
      "metadata": {
        "id": "tHIpOGiUePeB"
      }
    },
    {
      "cell_type": "code",
      "source": [
        "my_list = ['your first name', 'your last name']\n",
        "my_list.append(\"library id\")\n",
        "print(my_list)\n"
      ],
      "metadata": {
        "colab": {
          "base_uri": "https://localhost:8080/"
        },
        "id": "2JVX1TRwepDw",
        "outputId": "5e1d293b-522f-4683-d325-1e4e0cd83ba1"
      },
      "execution_count": null,
      "outputs": [
        {
          "output_type": "stream",
          "name": "stdout",
          "text": [
            "['your first name', 'your last name', 'library id']\n"
          ]
        }
      ]
    },
    {
      "cell_type": "code",
      "source": [],
      "metadata": {
        "id": "Gy0IinmofQu7"
      },
      "execution_count": null,
      "outputs": []
    }
  ],
  "metadata": {
    "colab": {
      "provenance": [],
      "toc_visible": true
    },
    "kernelspec": {
      "display_name": "Python 3",
      "name": "python3"
    },
    "language_info": {
      "name": "python"
    }
  },
  "nbformat": 4,
  "nbformat_minor": 0
}