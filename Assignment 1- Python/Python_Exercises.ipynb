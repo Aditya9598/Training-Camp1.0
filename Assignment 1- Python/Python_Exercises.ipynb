{
  "nbformat": 4,
  "nbformat_minor": 0,
  "metadata": {
    "colab": {
      "provenance": []
    },
    "kernelspec": {
      "name": "python3",
      "display_name": "Python 3"
    },
    "language_info": {
      "name": "python"
    }
  },
  "cells": [
    {
      "cell_type": "code",
      "execution_count": 103,
      "metadata": {
        "colab": {
          "base_uri": "https://localhost:8080/"
        },
        "id": "JAtZUpxyfGwu",
        "outputId": "b25a622e-0dea-490c-b0d8-388c5d91c284"
      },
      "outputs": [
        {
          "output_type": "stream",
          "name": "stdout",
          "text": [
            "2401\n"
          ]
        }
      ],
      "source": [
        "print(7**4)"
      ]
    },
    {
      "cell_type": "code",
      "source": [
        "string = \"Hi there Sam!\"\n",
        "words = string.split(' ')\n",
        "print(words)"
      ],
      "metadata": {
        "colab": {
          "base_uri": "https://localhost:8080/"
        },
        "id": "FMyW7hFgfRb8",
        "outputId": "0c6b05c0-2bda-4e23-d127-08c59fc88799"
      },
      "execution_count": 104,
      "outputs": [
        {
          "output_type": "stream",
          "name": "stdout",
          "text": [
            "['Hi', 'there', 'Sam!']\n"
          ]
        }
      ]
    },
    {
      "cell_type": "code",
      "source": [
        "planet=\"Earth\"\n",
        "diameter=\"12742\"\n",
        "print(\"The diameter of {} is {} kilometers.\".format(planet,diameter))"
      ],
      "metadata": {
        "colab": {
          "base_uri": "https://localhost:8080/"
        },
        "id": "inER3Ohffdml",
        "outputId": "d877bf44-2682-4f80-867e-9b72a9fcc791"
      },
      "execution_count": 105,
      "outputs": [
        {
          "output_type": "stream",
          "name": "stdout",
          "text": [
            "The diameter of Earth is 12742 kilometers.\n"
          ]
        }
      ]
    },
    {
      "cell_type": "code",
      "source": [
        "lst = [1,2,[3,4],[5,[100,200,['hello']],23,11],1,7]\n",
        "l1=lst[3]\n",
        "l2=l1[1]\n",
        "l3=l2[2]\n",
        "l4=l3[0]\n",
        "print(l4)"
      ],
      "metadata": {
        "colab": {
          "base_uri": "https://localhost:8080/"
        },
        "id": "7DjSoEt9f6By",
        "outputId": "1f402a4b-ab9c-4caa-f87b-90beaf60a39e"
      },
      "execution_count": 106,
      "outputs": [
        {
          "output_type": "stream",
          "name": "stdout",
          "text": [
            "hello\n"
          ]
        }
      ]
    },
    {
      "cell_type": "code",
      "source": [
        "d = {'k1':[1,2,3,{'tricky':['oh','man','inception',{'target':[1,2,3,'hello']}]}]}\n",
        "a=d[\"k1\"]\n",
        "b=a[3]\n",
        "c=b[\"tricky\"]\n",
        "e=c[3]\n",
        "f=e[\"target\"]\n",
        "g=f[3]\n",
        "print(g)\n"
      ],
      "metadata": {
        "colab": {
          "base_uri": "https://localhost:8080/"
        },
        "id": "HGVBNd4QhmMD",
        "outputId": "9815602a-9d19-4e58-a2d4-0d2c62635f52"
      },
      "execution_count": 107,
      "outputs": [
        {
          "output_type": "stream",
          "name": "stdout",
          "text": [
            "hello\n"
          ]
        }
      ]
    },
    {
      "cell_type": "code",
      "source": [
        "if('hi'=='bye'):  #checking whether 'hi' is equal to 'bye'\n",
        "   print(\"true\")  #if the condition is true print true\n",
        "else:\n",
        "   print(\"false\") #if the condition is false print false\n"
      ],
      "metadata": {
        "colab": {
          "base_uri": "https://localhost:8080/"
        },
        "id": "uLKRDyOHjmDc",
        "outputId": "126d6c5a-1b2d-401f-c8df-76648006de10"
      },
      "execution_count": 108,
      "outputs": [
        {
          "output_type": "stream",
          "name": "stdout",
          "text": [
            "false\n"
          ]
        }
      ]
    },
    {
      "cell_type": "code",
      "source": [
        "for i in range(10,0,-1):\n",
        "  print(\"12 x {} = {}\".format(i,i*12))"
      ],
      "metadata": {
        "colab": {
          "base_uri": "https://localhost:8080/"
        },
        "id": "0x5wjAyzkKVw",
        "outputId": "c0ed833a-25e1-4f69-f1c2-33fb09137fec"
      },
      "execution_count": 109,
      "outputs": [
        {
          "output_type": "stream",
          "name": "stdout",
          "text": [
            "12 x 10 = 120\n",
            "12 x 9 = 108\n",
            "12 x 8 = 96\n",
            "12 x 7 = 84\n",
            "12 x 6 = 72\n",
            "12 x 5 = 60\n",
            "12 x 4 = 48\n",
            "12 x 3 = 36\n",
            "12 x 2 = 24\n",
            "12 x 1 = 12\n"
          ]
        }
      ]
    },
    {
      "cell_type": "code",
      "source": [
        "bool1= (1==2)        #checking the condition and storing true or false value\n",
        "bool2 = (2==3)\n",
        "bool3 = (4==4)\n",
        "OR = bool1 or bool2 or bool3 #using or operator\n",
        "print(\"condition is\", OR)"
      ],
      "metadata": {
        "colab": {
          "base_uri": "https://localhost:8080/"
        },
        "id": "i87an9mUlFzW",
        "outputId": "f57c7c65-a26d-425f-fa0d-8534ba77f05a"
      },
      "execution_count": 110,
      "outputs": [
        {
          "output_type": "stream",
          "name": "stdout",
          "text": [
            "condition is True\n"
          ]
        }
      ]
    },
    {
      "cell_type": "code",
      "source": [
        "if(1==2):\n",
        "  print('first')\n",
        "elif(3==3):\n",
        "  print('middle')\n",
        "else:\n",
        "  print('Last')\n"
      ],
      "metadata": {
        "colab": {
          "base_uri": "https://localhost:8080/"
        },
        "id": "D38WVBKmldRY",
        "outputId": "fe27a5ed-15b7-4da3-bbff-10958028c6d5"
      },
      "execution_count": 111,
      "outputs": [
        {
          "output_type": "stream",
          "name": "stdout",
          "text": [
            "middle\n"
          ]
        }
      ]
    },
    {
      "cell_type": "code",
      "source": [
        "seq = [1,2,3,4,5]\n",
        "for jelly in seq:\n",
        "  print(jelly+jelly)"
      ],
      "metadata": {
        "colab": {
          "base_uri": "https://localhost:8080/"
        },
        "id": "vLncWHuyojK0",
        "outputId": "26ac127e-f556-4529-fe7b-0cf716dd16f4"
      },
      "execution_count": 112,
      "outputs": [
        {
          "output_type": "stream",
          "name": "stdout",
          "text": [
            "2\n",
            "4\n",
            "6\n",
            "8\n",
            "10\n"
          ]
        }
      ]
    },
    {
      "cell_type": "code",
      "source": [
        "for i in range(1,5):\n",
        "  print(\"i is: {}\".format(i))"
      ],
      "metadata": {
        "colab": {
          "base_uri": "https://localhost:8080/"
        },
        "id": "b7JKjZPyoz5-",
        "outputId": "0ac68dab-7adc-4196-e054-95339d022687"
      },
      "execution_count": 113,
      "outputs": [
        {
          "output_type": "stream",
          "name": "stdout",
          "text": [
            "i is: 1\n",
            "i is: 2\n",
            "i is: 3\n",
            "i is: 4\n"
          ]
        }
      ]
    },
    {
      "cell_type": "code",
      "source": [
        "d = {1:1**2, 2:2**2, 3:3**2,4:4**2}\n",
        "x = [1,2,3,4]\n",
        "f=[]\n",
        "for l in x:\n",
        "    f.append(d[l])\n",
        "f\n"
      ],
      "metadata": {
        "colab": {
          "base_uri": "https://localhost:8080/"
        },
        "id": "rYCKxOGGo3zl",
        "outputId": "922d6baa-9cd9-4af2-b4c3-f5166d13614d"
      },
      "execution_count": 114,
      "outputs": [
        {
          "output_type": "execute_result",
          "data": {
            "text/plain": [
              "[1, 4, 9, 16]"
            ]
          },
          "metadata": {},
          "execution_count": 114
        }
      ]
    },
    {
      "cell_type": "code",
      "source": [
        "#A Set is an unordered collection data type that is iterable, mutable, and has no duplicate elements. \n",
        "# it is initialised in curly brackets"
      ],
      "metadata": {
        "id": "h3hBx5AtpL6y"
      },
      "execution_count": 115,
      "outputs": []
    },
    {
      "cell_type": "code",
      "source": [
        "#what do you think Array and List is same or not ? Explain -\n",
        "#Answer- No, array and list are not same as in list we can store elements of any data type and in array we can only store elements of same data type\n",
        "# list cannot directly handle arithmetic operations but an array can directly handle arithmetic operations"
      ],
      "metadata": {
        "id": "WsGl2mYXvc2W"
      },
      "execution_count": 116,
      "outputs": []
    },
    {
      "cell_type": "code",
      "source": [
        "my_list = ['Ankit', 'Rana']\n",
        "my_list.append(['2226cse1043'])\n",
        "my_list"
      ],
      "metadata": {
        "colab": {
          "base_uri": "https://localhost:8080/"
        },
        "id": "UYwTm8EuxAMX",
        "outputId": "1daf5890-5630-42af-c417-8f281fdd5779"
      },
      "execution_count": 117,
      "outputs": [
        {
          "output_type": "execute_result",
          "data": {
            "text/plain": [
              "['Ankit', 'Rana', ['2226cse1043']]"
            ]
          },
          "metadata": {},
          "execution_count": 117
        }
      ]
    },
    {
      "cell_type": "code",
      "source": [],
      "metadata": {
        "id": "L4bl5wDjxsUt"
      },
      "execution_count": 117,
      "outputs": []
    }
  ]
}