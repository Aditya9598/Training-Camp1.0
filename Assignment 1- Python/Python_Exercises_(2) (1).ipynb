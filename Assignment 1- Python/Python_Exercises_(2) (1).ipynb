{
  "cells": [
    {
      "cell_type": "markdown",
      "metadata": {
        "id": "ZgKBw_QFI_q4"
      },
      "source": [
        "\n",
        "___\n",
        "# Python  Exercises "
      ]
    },
    {
      "cell_type": "markdown",
      "metadata": {
        "id": "a2a5LZwZI_rB"
      },
      "source": [
        "## Exercises\n",
        "\n",
        "Answer the questions or complete the tasks outlined in bold below, use the specific method described if applicable."
      ]
    },
    {
      "cell_type": "markdown",
      "metadata": {
        "id": "-Q5wO7GMI_rD"
      },
      "source": [
        "** What is 7 to the power of 4?**"
      ]
    },
    {
      "cell_type": "code",
      "execution_count": 1,
      "metadata": {
        "colab": {
          "base_uri": "https://localhost:8080/"
        },
        "id": "bTL2x8GWI_rF",
        "outputId": "31b63a25-185a-4682-a8dd-9f6f33c200ec"
      },
      "outputs": [
        {
          "output_type": "stream",
          "name": "stdout",
          "text": [
            "2401\n"
          ]
        }
      ],
      "source": [
        "print(7**4)"
      ]
    },
    {
      "cell_type": "markdown",
      "metadata": {
        "id": "xp7fW38WI_rJ"
      },
      "source": [
        "** Split this string:**\n",
        "\n",
        "    s = \"Hi there Sam!\"\n",
        "    \n",
        "**into a list. **"
      ]
    },
    {
      "cell_type": "code",
      "execution_count": 2,
      "metadata": {
        "colab": {
          "base_uri": "https://localhost:8080/"
        },
        "id": "5esDY7NpI_rL",
        "outputId": "3e2c53fc-f98d-4db6-d271-3423f273b3c3"
      },
      "outputs": [
        {
          "output_type": "stream",
          "name": "stdout",
          "text": [
            "['Hi there Sam!']\n"
          ]
        }
      ],
      "source": [
        "s = \"Hi there Sam!\"\n",
        "print([s])"
      ]
    },
    {
      "cell_type": "code",
      "execution_count": 3,
      "metadata": {
        "colab": {
          "base_uri": "https://localhost:8080/"
        },
        "id": "7c3tisDpI_rM",
        "outputId": "43201494-9bc7-4989-d8fb-3535fdd00674"
      },
      "outputs": [
        {
          "output_type": "stream",
          "name": "stdout",
          "text": [
            "['Hi', 'there', 'Sam!']\n"
          ]
        }
      ],
      "source": [
        "print(s.split())                   #try using spilt function."
      ]
    },
    {
      "cell_type": "markdown",
      "metadata": {
        "id": "uK0YAUUEI_rO"
      },
      "source": [
        "** Given the variables:**\n",
        "\n",
        "    planet = \"Earth\"\n",
        "    diameter = 12742\n",
        "\n",
        "** Use .format() to print the following string: **\n",
        "\n",
        "    The diameter of Earth is 12742 kilometers."
      ]
    },
    {
      "cell_type": "code",
      "execution_count": 4,
      "metadata": {
        "id": "Nd7Pj5pGI_rP"
      },
      "outputs": [],
      "source": [
        "planet=\"Earth\"\n",
        "diameter=12742"
      ]
    },
    {
      "cell_type": "code",
      "execution_count": 5,
      "metadata": {
        "colab": {
          "base_uri": "https://localhost:8080/"
        },
        "id": "S1QmcEpGI_rQ",
        "outputId": "6370ac1a-927c-4d35-8f6f-ec1965becc27"
      },
      "outputs": [
        {
          "output_type": "stream",
          "name": "stdout",
          "text": [
            "The diameter of Earth is 12742 kilometers.\n"
          ]
        }
      ],
      "source": [
        "print(\"The diameter of {} is {} kilometers.\".format(planet,diameter))"
      ]
    },
    {
      "cell_type": "markdown",
      "metadata": {
        "id": "eEoI5FnmI_rR"
      },
      "source": [
        "** Given this nested list, use indexing to grab the word \"hello\" **"
      ]
    },
    {
      "cell_type": "code",
      "execution_count": 6,
      "metadata": {
        "id": "C_Tcp29DI_rS"
      },
      "outputs": [],
      "source": [
        "lst = [1,2,[3,4],[5,[100,200,['hello']],23,11],1,7]"
      ]
    },
    {
      "cell_type": "code",
      "execution_count": 7,
      "metadata": {
        "colab": {
          "base_uri": "https://localhost:8080/",
          "height": 35
        },
        "id": "j0dAu8fvI_rT",
        "outputId": "5662fedf-5ae0-4f4b-ea61-e83a72125df4"
      },
      "outputs": [
        {
          "output_type": "execute_result",
          "data": {
            "text/plain": [
              "'hello'"
            ],
            "application/vnd.google.colaboratory.intrinsic+json": {
              "type": "string"
            }
          },
          "metadata": {},
          "execution_count": 7
        }
      ],
      "source": [
        "lst[3][1][2][0]"
      ]
    },
    {
      "cell_type": "markdown",
      "metadata": {
        "id": "x7re7YW1I_rV"
      },
      "source": [
        "** Given this nested dictionary grab the word \"hello\". Be prepared, this will be annoying/tricky **"
      ]
    },
    {
      "cell_type": "code",
      "execution_count": 8,
      "metadata": {
        "id": "QvwuUyQEI_rW"
      },
      "outputs": [],
      "source": [
        "d = {'k1':[1,2,3,{'tricky':['oh','man','inception',{'target':[1,2,3,'hello']}]}]}"
      ]
    },
    {
      "cell_type": "code",
      "execution_count": 9,
      "metadata": {
        "id": "xuo6HLGyI_rX",
        "outputId": "fc0e7d94-c1d6-4314-e457-a3243ffe7fb1",
        "colab": {
          "base_uri": "https://localhost:8080/",
          "height": 35
        }
      },
      "outputs": [
        {
          "output_type": "execute_result",
          "data": {
            "text/plain": [
              "'hello'"
            ],
            "application/vnd.google.colaboratory.intrinsic+json": {
              "type": "string"
            }
          },
          "metadata": {},
          "execution_count": 9
        }
      ],
      "source": [
        "d['k1'][3]['tricky'][3]['target'][3]"
      ]
    },
    {
      "cell_type": "markdown",
      "metadata": {
        "id": "YZc1uUrMI_rY"
      },
      "source": [
        "# 'hi' == 'bye'"
      ]
    },
    {
      "cell_type": "code",
      "execution_count": 10,
      "metadata": {
        "id": "Ss-mcWSNI_rZ"
      },
      "outputs": [],
      "source": [
        "#False"
      ]
    },
    {
      "cell_type": "markdown",
      "metadata": {
        "id": "NAu9kH1iI_ra"
      },
      "source": [
        "# write the table of 12 but print in reverse order\n",
        "12 X 10 =120 \n",
        "\n",
        "12 X 9  =108      ...Like this"
      ]
    },
    {
      "cell_type": "code",
      "execution_count": 11,
      "metadata": {
        "colab": {
          "base_uri": "https://localhost:8080/"
        },
        "id": "7LTbq1p3I_rb",
        "outputId": "241abcbd-4039-45ed-c88c-3c1053aea50f"
      },
      "outputs": [
        {
          "output_type": "stream",
          "name": "stdout",
          "text": [
            "12 * 10 = 120\n",
            "12 * 9 = 108\n",
            "12 * 8 = 96\n",
            "12 * 7 = 84\n",
            "12 * 6 = 72\n",
            "12 * 5 = 60\n",
            "12 * 4 = 48\n",
            "12 * 3 = 36\n",
            "12 * 2 = 24\n",
            "12 * 1 = 12\n"
          ]
        }
      ],
      "source": [
        "for i in range(10,0,-1):\n",
        "  a=12*i\n",
        "  print(\"12 *\",i,\"=\",a)"
      ]
    },
    {
      "cell_type": "markdown",
      "metadata": {
        "id": "WRnWkAOqI_rc"
      },
      "source": [
        " # Q-\n",
        " (1 == 2) or (2 == 3) or (4 == 4)"
      ]
    },
    {
      "cell_type": "code",
      "execution_count": 12,
      "metadata": {
        "id": "glYcWbg8I_rd"
      },
      "outputs": [],
      "source": [
        "#true"
      ]
    },
    {
      "cell_type": "markdown",
      "metadata": {
        "id": "0yhzCW-KI_re"
      },
      "source": [
        "# Q-\n",
        "if 1 == 2:\n",
        "\n",
        "    print('first')\n",
        "    \n",
        "elif 3 == 3:\n",
        "\n",
        "\tprint('middle')\n",
        "    \n",
        "else:\n",
        "\"\n",
        "    print('Last')"
      ]
    },
    {
      "cell_type": "code",
      "execution_count": 13,
      "metadata": {
        "colab": {
          "base_uri": "https://localhost:8080/"
        },
        "id": "-d63YDngI_rf",
        "outputId": "36d2a207-99d4-4b1f-f763-3d8ec6a280c6"
      },
      "outputs": [
        {
          "output_type": "stream",
          "name": "stdout",
          "text": [
            "middle\n"
          ]
        }
      ],
      "source": [
        "#output \n",
        "if 1 == 2:\n",
        "  print('first')\n",
        "elif 3 == 3:\n",
        "  print('middle')\n",
        "else:\n",
        "   print('Last')  "
      ]
    },
    {
      "cell_type": "markdown",
      "metadata": {
        "id": "noPTPO0JI_rf"
      },
      "source": [
        "# Q-\n",
        "seq = [1,2,3,4,5]\n",
        "\n",
        "for jelly in seq:\n",
        "\n",
        "    print(jelly+jelly)"
      ]
    },
    {
      "cell_type": "code",
      "execution_count": 14,
      "metadata": {
        "id": "5gV1DOuXI_rg"
      },
      "outputs": [],
      "source": [
        "#output \n",
        "#2\n",
        "#4\n",
        "#6\n",
        "#8\n",
        "#10"
      ]
    },
    {
      "cell_type": "code",
      "execution_count": 15,
      "metadata": {
        "colab": {
          "base_uri": "https://localhost:8080/"
        },
        "id": "_6x7j9pmI_rh",
        "outputId": "31e4679d-2fed-4193-8d74-20e308c22418"
      },
      "outputs": [
        {
          "output_type": "stream",
          "name": "stdout",
          "text": [
            "2\n",
            "4\n",
            "6\n",
            "8\n",
            "10\n"
          ]
        }
      ],
      "source": [
        "# code to print output\n",
        "seq = [1,2,3,4,5]\n",
        "\n",
        "for jelly in seq:\n",
        "  print(jelly+jelly)"
      ]
    },
    {
      "cell_type": "code",
      "execution_count": 16,
      "metadata": {
        "id": "HvFDkiGII_ri"
      },
      "outputs": [],
      "source": [
        "# Question-\n",
        "x = [1,2,3,4]"
      ]
    },
    {
      "cell_type": "code",
      "execution_count": 17,
      "metadata": {
        "id": "6sUmbtwmI_rl"
      },
      "outputs": [],
      "source": [
        "# Define  Set in your words.\n",
        "# Answer\n",
        "#A Set is an unordered collection data type that is iterable, mutable, and has no duplicate elements. "
      ]
    },
    {
      "cell_type": "code",
      "execution_count": 18,
      "metadata": {
        "id": "trlc1qv9I_rm"
      },
      "outputs": [],
      "source": [
        "# what do you think Array and List is same or not ? Explain -\n",
        "# Answer\n",
        "#List is used to collect items that usually consist of elements of multiple data types. An array is also a vital component that collects several items of the same data type."
      ]
    },
    {
      "cell_type": "code",
      "execution_count": 19,
      "metadata": {
        "id": "nVsF5MusI_rm"
      },
      "outputs": [],
      "source": [
        "my_list = ['your first name', 'your last name']"
      ]
    },
    {
      "cell_type": "code",
      "execution_count": 20,
      "metadata": {
        "id": "5ip4-VzdI_rn",
        "colab": {
          "base_uri": "https://localhost:8080/"
        },
        "outputId": "cee1b213-9a26-4713-b6b4-60b6b2b89fb6"
      },
      "outputs": [
        {
          "output_type": "stream",
          "name": "stdout",
          "text": [
            "['your first name', 'your last name', '2226cse1136']\n"
          ]
        }
      ],
      "source": [
        "# write the append to enter your libaray id \n",
        "# code-\n",
        "lib='2226cse1136'\n",
        "my_list.append(lib)\n",
        "print(my_list)\n"
      ]
    },
    {
      "cell_type": "markdown",
      "metadata": {
        "id": "kNp3CdJXI_ro"
      },
      "source": [
        "## Good Job"
      ]
    }
  ],
  "metadata": {
    "kernelspec": {
      "display_name": "Python 3 (ipykernel)",
      "language": "python",
      "name": "python3"
    },
    "language_info": {
      "codemirror_mode": {
        "name": "ipython",
        "version": 3
      },
      "file_extension": ".py",
      "mimetype": "text/x-python",
      "name": "python",
      "nbconvert_exporter": "python",
      "pygments_lexer": "ipython3",
      "version": "3.9.12"
    },
    "colab": {
      "provenance": []
    }
  },
  "nbformat": 4,
  "nbformat_minor": 0
}