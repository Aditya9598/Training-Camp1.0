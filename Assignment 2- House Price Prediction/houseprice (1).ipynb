{
  "nbformat": 4,
  "nbformat_minor": 0,
  "metadata": {
    "colab": {
      "provenance": []
    },
    "kernelspec": {
      "name": "python3",
      "display_name": "Python 3"
    },
    "language_info": {
      "name": "python"
    }
  },
  "cells": [
    {
      "cell_type": "code",
      "execution_count": null,
      "metadata": {
        "id": "aHNGIs2-pH_K"
      },
      "outputs": [],
      "source": [
        "import numpy as np\n",
        "import pandas as pd\n",
        "import matplotlib.pyplot as plt\n",
        "import seaborn as sns\n",
        "%matplotlib inline\n"
      ]
    },
    {
      "cell_type": "code",
      "source": [
        "houseprice=pd.read_csv('ParisHousing.csv')"
      ],
      "metadata": {
        "id": "d0ugHlJIpSCL"
      },
      "execution_count": null,
      "outputs": []
    },
    {
      "cell_type": "code",
      "source": [
        "houseprice"
      ],
      "metadata": {
        "colab": {
          "base_uri": "https://localhost:8080/",
          "height": 487
        },
        "id": "XZO1Sv09qHAT",
        "outputId": "0c28e1c9-7074-4161-cfbe-3c8b19e00eb4"
      },
      "execution_count": null,
      "outputs": [
        {
          "output_type": "execute_result",
          "data": {
            "text/plain": [
              "      squareMeters  numberOfRooms  hasYard  hasPool  floors  cityCode  \\\n",
              "0            75523              3        0        1      63      9373   \n",
              "1            80771             39        1        1      98     39381   \n",
              "2            55712             58        0        1      19     34457   \n",
              "3            32316             47        0        0       6     27939   \n",
              "4            70429             19        1        1      90     38045   \n",
              "...            ...            ...      ...      ...     ...       ...   \n",
              "9995          1726             89        0        1       5     73133   \n",
              "9996         44403             29        1        1      12     34606   \n",
              "9997         83841              3        0        0      69     80933   \n",
              "9998         59036             70        0        0      96     55856   \n",
              "9999          1440             84        0        0      49     18412   \n",
              "\n",
              "      cityPartRange  numPrevOwners  made  isNewBuilt  hasStormProtector  \\\n",
              "0                 3              8  2005           0                  1   \n",
              "1                 8              6  2015           1                  0   \n",
              "2                 6              8  2021           0                  0   \n",
              "3                10              4  2012           0                  1   \n",
              "4                 3              7  1990           1                  0   \n",
              "...             ...            ...   ...         ...                ...   \n",
              "9995              7              6  2009           0                  1   \n",
              "9996              9              4  1990           0                  1   \n",
              "9997             10             10  2005           1                  1   \n",
              "9998              1              3  2010           0                  1   \n",
              "9999              6             10  1994           1                  0   \n",
              "\n",
              "      basement  attic  garage  hasStorageRoom  hasGuestRoom      price  \n",
              "0         4313   9005     956               0             7  7559081.5  \n",
              "1         3653   2436     128               1             2  8085989.5  \n",
              "2         2937   8852     135               1             9  5574642.1  \n",
              "3          659   7141     359               0             3  3232561.2  \n",
              "4         8435   2429     292               1             4  7055052.0  \n",
              "...        ...    ...     ...             ...           ...        ...  \n",
              "9995      9311   1698     218               0             4   176425.9  \n",
              "9996      9061   1742     230               0             0  4448474.0  \n",
              "9997      8304   7730     345               1             9  8390030.5  \n",
              "9998      2590   6174     339               1             4  5905107.0  \n",
              "9999      8485   2024     278               1             6   146708.4  \n",
              "\n",
              "[10000 rows x 17 columns]"
            ],
            "text/html": [
              "\n",
              "  <div id=\"df-5a95469f-494a-43f3-8146-ebbab65fa851\">\n",
              "    <div class=\"colab-df-container\">\n",
              "      <div>\n",
              "<style scoped>\n",
              "    .dataframe tbody tr th:only-of-type {\n",
              "        vertical-align: middle;\n",
              "    }\n",
              "\n",
              "    .dataframe tbody tr th {\n",
              "        vertical-align: top;\n",
              "    }\n",
              "\n",
              "    .dataframe thead th {\n",
              "        text-align: right;\n",
              "    }\n",
              "</style>\n",
              "<table border=\"1\" class=\"dataframe\">\n",
              "  <thead>\n",
              "    <tr style=\"text-align: right;\">\n",
              "      <th></th>\n",
              "      <th>squareMeters</th>\n",
              "      <th>numberOfRooms</th>\n",
              "      <th>hasYard</th>\n",
              "      <th>hasPool</th>\n",
              "      <th>floors</th>\n",
              "      <th>cityCode</th>\n",
              "      <th>cityPartRange</th>\n",
              "      <th>numPrevOwners</th>\n",
              "      <th>made</th>\n",
              "      <th>isNewBuilt</th>\n",
              "      <th>hasStormProtector</th>\n",
              "      <th>basement</th>\n",
              "      <th>attic</th>\n",
              "      <th>garage</th>\n",
              "      <th>hasStorageRoom</th>\n",
              "      <th>hasGuestRoom</th>\n",
              "      <th>price</th>\n",
              "    </tr>\n",
              "  </thead>\n",
              "  <tbody>\n",
              "    <tr>\n",
              "      <th>0</th>\n",
              "      <td>75523</td>\n",
              "      <td>3</td>\n",
              "      <td>0</td>\n",
              "      <td>1</td>\n",
              "      <td>63</td>\n",
              "      <td>9373</td>\n",
              "      <td>3</td>\n",
              "      <td>8</td>\n",
              "      <td>2005</td>\n",
              "      <td>0</td>\n",
              "      <td>1</td>\n",
              "      <td>4313</td>\n",
              "      <td>9005</td>\n",
              "      <td>956</td>\n",
              "      <td>0</td>\n",
              "      <td>7</td>\n",
              "      <td>7559081.5</td>\n",
              "    </tr>\n",
              "    <tr>\n",
              "      <th>1</th>\n",
              "      <td>80771</td>\n",
              "      <td>39</td>\n",
              "      <td>1</td>\n",
              "      <td>1</td>\n",
              "      <td>98</td>\n",
              "      <td>39381</td>\n",
              "      <td>8</td>\n",
              "      <td>6</td>\n",
              "      <td>2015</td>\n",
              "      <td>1</td>\n",
              "      <td>0</td>\n",
              "      <td>3653</td>\n",
              "      <td>2436</td>\n",
              "      <td>128</td>\n",
              "      <td>1</td>\n",
              "      <td>2</td>\n",
              "      <td>8085989.5</td>\n",
              "    </tr>\n",
              "    <tr>\n",
              "      <th>2</th>\n",
              "      <td>55712</td>\n",
              "      <td>58</td>\n",
              "      <td>0</td>\n",
              "      <td>1</td>\n",
              "      <td>19</td>\n",
              "      <td>34457</td>\n",
              "      <td>6</td>\n",
              "      <td>8</td>\n",
              "      <td>2021</td>\n",
              "      <td>0</td>\n",
              "      <td>0</td>\n",
              "      <td>2937</td>\n",
              "      <td>8852</td>\n",
              "      <td>135</td>\n",
              "      <td>1</td>\n",
              "      <td>9</td>\n",
              "      <td>5574642.1</td>\n",
              "    </tr>\n",
              "    <tr>\n",
              "      <th>3</th>\n",
              "      <td>32316</td>\n",
              "      <td>47</td>\n",
              "      <td>0</td>\n",
              "      <td>0</td>\n",
              "      <td>6</td>\n",
              "      <td>27939</td>\n",
              "      <td>10</td>\n",
              "      <td>4</td>\n",
              "      <td>2012</td>\n",
              "      <td>0</td>\n",
              "      <td>1</td>\n",
              "      <td>659</td>\n",
              "      <td>7141</td>\n",
              "      <td>359</td>\n",
              "      <td>0</td>\n",
              "      <td>3</td>\n",
              "      <td>3232561.2</td>\n",
              "    </tr>\n",
              "    <tr>\n",
              "      <th>4</th>\n",
              "      <td>70429</td>\n",
              "      <td>19</td>\n",
              "      <td>1</td>\n",
              "      <td>1</td>\n",
              "      <td>90</td>\n",
              "      <td>38045</td>\n",
              "      <td>3</td>\n",
              "      <td>7</td>\n",
              "      <td>1990</td>\n",
              "      <td>1</td>\n",
              "      <td>0</td>\n",
              "      <td>8435</td>\n",
              "      <td>2429</td>\n",
              "      <td>292</td>\n",
              "      <td>1</td>\n",
              "      <td>4</td>\n",
              "      <td>7055052.0</td>\n",
              "    </tr>\n",
              "    <tr>\n",
              "      <th>...</th>\n",
              "      <td>...</td>\n",
              "      <td>...</td>\n",
              "      <td>...</td>\n",
              "      <td>...</td>\n",
              "      <td>...</td>\n",
              "      <td>...</td>\n",
              "      <td>...</td>\n",
              "      <td>...</td>\n",
              "      <td>...</td>\n",
              "      <td>...</td>\n",
              "      <td>...</td>\n",
              "      <td>...</td>\n",
              "      <td>...</td>\n",
              "      <td>...</td>\n",
              "      <td>...</td>\n",
              "      <td>...</td>\n",
              "      <td>...</td>\n",
              "    </tr>\n",
              "    <tr>\n",
              "      <th>9995</th>\n",
              "      <td>1726</td>\n",
              "      <td>89</td>\n",
              "      <td>0</td>\n",
              "      <td>1</td>\n",
              "      <td>5</td>\n",
              "      <td>73133</td>\n",
              "      <td>7</td>\n",
              "      <td>6</td>\n",
              "      <td>2009</td>\n",
              "      <td>0</td>\n",
              "      <td>1</td>\n",
              "      <td>9311</td>\n",
              "      <td>1698</td>\n",
              "      <td>218</td>\n",
              "      <td>0</td>\n",
              "      <td>4</td>\n",
              "      <td>176425.9</td>\n",
              "    </tr>\n",
              "    <tr>\n",
              "      <th>9996</th>\n",
              "      <td>44403</td>\n",
              "      <td>29</td>\n",
              "      <td>1</td>\n",
              "      <td>1</td>\n",
              "      <td>12</td>\n",
              "      <td>34606</td>\n",
              "      <td>9</td>\n",
              "      <td>4</td>\n",
              "      <td>1990</td>\n",
              "      <td>0</td>\n",
              "      <td>1</td>\n",
              "      <td>9061</td>\n",
              "      <td>1742</td>\n",
              "      <td>230</td>\n",
              "      <td>0</td>\n",
              "      <td>0</td>\n",
              "      <td>4448474.0</td>\n",
              "    </tr>\n",
              "    <tr>\n",
              "      <th>9997</th>\n",
              "      <td>83841</td>\n",
              "      <td>3</td>\n",
              "      <td>0</td>\n",
              "      <td>0</td>\n",
              "      <td>69</td>\n",
              "      <td>80933</td>\n",
              "      <td>10</td>\n",
              "      <td>10</td>\n",
              "      <td>2005</td>\n",
              "      <td>1</td>\n",
              "      <td>1</td>\n",
              "      <td>8304</td>\n",
              "      <td>7730</td>\n",
              "      <td>345</td>\n",
              "      <td>1</td>\n",
              "      <td>9</td>\n",
              "      <td>8390030.5</td>\n",
              "    </tr>\n",
              "    <tr>\n",
              "      <th>9998</th>\n",
              "      <td>59036</td>\n",
              "      <td>70</td>\n",
              "      <td>0</td>\n",
              "      <td>0</td>\n",
              "      <td>96</td>\n",
              "      <td>55856</td>\n",
              "      <td>1</td>\n",
              "      <td>3</td>\n",
              "      <td>2010</td>\n",
              "      <td>0</td>\n",
              "      <td>1</td>\n",
              "      <td>2590</td>\n",
              "      <td>6174</td>\n",
              "      <td>339</td>\n",
              "      <td>1</td>\n",
              "      <td>4</td>\n",
              "      <td>5905107.0</td>\n",
              "    </tr>\n",
              "    <tr>\n",
              "      <th>9999</th>\n",
              "      <td>1440</td>\n",
              "      <td>84</td>\n",
              "      <td>0</td>\n",
              "      <td>0</td>\n",
              "      <td>49</td>\n",
              "      <td>18412</td>\n",
              "      <td>6</td>\n",
              "      <td>10</td>\n",
              "      <td>1994</td>\n",
              "      <td>1</td>\n",
              "      <td>0</td>\n",
              "      <td>8485</td>\n",
              "      <td>2024</td>\n",
              "      <td>278</td>\n",
              "      <td>1</td>\n",
              "      <td>6</td>\n",
              "      <td>146708.4</td>\n",
              "    </tr>\n",
              "  </tbody>\n",
              "</table>\n",
              "<p>10000 rows × 17 columns</p>\n",
              "</div>\n",
              "      <button class=\"colab-df-convert\" onclick=\"convertToInteractive('df-5a95469f-494a-43f3-8146-ebbab65fa851')\"\n",
              "              title=\"Convert this dataframe to an interactive table.\"\n",
              "              style=\"display:none;\">\n",
              "        \n",
              "  <svg xmlns=\"http://www.w3.org/2000/svg\" height=\"24px\"viewBox=\"0 0 24 24\"\n",
              "       width=\"24px\">\n",
              "    <path d=\"M0 0h24v24H0V0z\" fill=\"none\"/>\n",
              "    <path d=\"M18.56 5.44l.94 2.06.94-2.06 2.06-.94-2.06-.94-.94-2.06-.94 2.06-2.06.94zm-11 1L8.5 8.5l.94-2.06 2.06-.94-2.06-.94L8.5 2.5l-.94 2.06-2.06.94zm10 10l.94 2.06.94-2.06 2.06-.94-2.06-.94-.94-2.06-.94 2.06-2.06.94z\"/><path d=\"M17.41 7.96l-1.37-1.37c-.4-.4-.92-.59-1.43-.59-.52 0-1.04.2-1.43.59L10.3 9.45l-7.72 7.72c-.78.78-.78 2.05 0 2.83L4 21.41c.39.39.9.59 1.41.59.51 0 1.02-.2 1.41-.59l7.78-7.78 2.81-2.81c.8-.78.8-2.07 0-2.86zM5.41 20L4 18.59l7.72-7.72 1.47 1.35L5.41 20z\"/>\n",
              "  </svg>\n",
              "      </button>\n",
              "      \n",
              "  <style>\n",
              "    .colab-df-container {\n",
              "      display:flex;\n",
              "      flex-wrap:wrap;\n",
              "      gap: 12px;\n",
              "    }\n",
              "\n",
              "    .colab-df-convert {\n",
              "      background-color: #E8F0FE;\n",
              "      border: none;\n",
              "      border-radius: 50%;\n",
              "      cursor: pointer;\n",
              "      display: none;\n",
              "      fill: #1967D2;\n",
              "      height: 32px;\n",
              "      padding: 0 0 0 0;\n",
              "      width: 32px;\n",
              "    }\n",
              "\n",
              "    .colab-df-convert:hover {\n",
              "      background-color: #E2EBFA;\n",
              "      box-shadow: 0px 1px 2px rgba(60, 64, 67, 0.3), 0px 1px 3px 1px rgba(60, 64, 67, 0.15);\n",
              "      fill: #174EA6;\n",
              "    }\n",
              "\n",
              "    [theme=dark] .colab-df-convert {\n",
              "      background-color: #3B4455;\n",
              "      fill: #D2E3FC;\n",
              "    }\n",
              "\n",
              "    [theme=dark] .colab-df-convert:hover {\n",
              "      background-color: #434B5C;\n",
              "      box-shadow: 0px 1px 3px 1px rgba(0, 0, 0, 0.15);\n",
              "      filter: drop-shadow(0px 1px 2px rgba(0, 0, 0, 0.3));\n",
              "      fill: #FFFFFF;\n",
              "    }\n",
              "  </style>\n",
              "\n",
              "      <script>\n",
              "        const buttonEl =\n",
              "          document.querySelector('#df-5a95469f-494a-43f3-8146-ebbab65fa851 button.colab-df-convert');\n",
              "        buttonEl.style.display =\n",
              "          google.colab.kernel.accessAllowed ? 'block' : 'none';\n",
              "\n",
              "        async function convertToInteractive(key) {\n",
              "          const element = document.querySelector('#df-5a95469f-494a-43f3-8146-ebbab65fa851');\n",
              "          const dataTable =\n",
              "            await google.colab.kernel.invokeFunction('convertToInteractive',\n",
              "                                                     [key], {});\n",
              "          if (!dataTable) return;\n",
              "\n",
              "          const docLinkHtml = 'Like what you see? Visit the ' +\n",
              "            '<a target=\"_blank\" href=https://colab.research.google.com/notebooks/data_table.ipynb>data table notebook</a>'\n",
              "            + ' to learn more about interactive tables.';\n",
              "          element.innerHTML = '';\n",
              "          dataTable['output_type'] = 'display_data';\n",
              "          await google.colab.output.renderOutput(dataTable, element);\n",
              "          const docLink = document.createElement('div');\n",
              "          docLink.innerHTML = docLinkHtml;\n",
              "          element.appendChild(docLink);\n",
              "        }\n",
              "      </script>\n",
              "    </div>\n",
              "  </div>\n",
              "  "
            ]
          },
          "metadata": {},
          "execution_count": 52
        }
      ]
    },
    {
      "cell_type": "code",
      "source": [
        "houseprice.info()"
      ],
      "metadata": {
        "colab": {
          "base_uri": "https://localhost:8080/"
        },
        "id": "dmRO66TDqMyU",
        "outputId": "2bd9f50e-b275-4f7e-9f88-ba0870cabb0b"
      },
      "execution_count": null,
      "outputs": [
        {
          "output_type": "stream",
          "name": "stdout",
          "text": [
            "<class 'pandas.core.frame.DataFrame'>\n",
            "RangeIndex: 10000 entries, 0 to 9999\n",
            "Data columns (total 17 columns):\n",
            " #   Column             Non-Null Count  Dtype  \n",
            "---  ------             --------------  -----  \n",
            " 0   squareMeters       10000 non-null  int64  \n",
            " 1   numberOfRooms      10000 non-null  int64  \n",
            " 2   hasYard            10000 non-null  int64  \n",
            " 3   hasPool            10000 non-null  int64  \n",
            " 4   floors             10000 non-null  int64  \n",
            " 5   cityCode           10000 non-null  int64  \n",
            " 6   cityPartRange      10000 non-null  int64  \n",
            " 7   numPrevOwners      10000 non-null  int64  \n",
            " 8   made               10000 non-null  int64  \n",
            " 9   isNewBuilt         10000 non-null  int64  \n",
            " 10  hasStormProtector  10000 non-null  int64  \n",
            " 11  basement           10000 non-null  int64  \n",
            " 12  attic              10000 non-null  int64  \n",
            " 13  garage             10000 non-null  int64  \n",
            " 14  hasStorageRoom     10000 non-null  int64  \n",
            " 15  hasGuestRoom       10000 non-null  int64  \n",
            " 16  price              10000 non-null  float64\n",
            "dtypes: float64(1), int64(16)\n",
            "memory usage: 1.3 MB\n"
          ]
        }
      ]
    },
    {
      "cell_type": "code",
      "source": [
        "houseprice.isnull().sum()"
      ],
      "metadata": {
        "colab": {
          "base_uri": "https://localhost:8080/"
        },
        "id": "h_NtBWt9qUZF",
        "outputId": "312034b4-4a27-4998-fd7d-73448c4c6d09"
      },
      "execution_count": null,
      "outputs": [
        {
          "output_type": "execute_result",
          "data": {
            "text/plain": [
              "squareMeters         0\n",
              "numberOfRooms        0\n",
              "hasYard              0\n",
              "hasPool              0\n",
              "floors               0\n",
              "cityCode             0\n",
              "cityPartRange        0\n",
              "numPrevOwners        0\n",
              "made                 0\n",
              "isNewBuilt           0\n",
              "hasStormProtector    0\n",
              "basement             0\n",
              "attic                0\n",
              "garage               0\n",
              "hasStorageRoom       0\n",
              "hasGuestRoom         0\n",
              "price                0\n",
              "dtype: int64"
            ]
          },
          "metadata": {},
          "execution_count": 5
        }
      ]
    },
    {
      "cell_type": "code",
      "source": [
        "sns.heatmap(houseprice.isnull(),yticklabels=False,cbar=False)"
      ],
      "metadata": {
        "colab": {
          "base_uri": "https://localhost:8080/",
          "height": 365
        },
        "id": "TFlgrpseq7SX",
        "outputId": "5e3beea4-d77c-4d56-af72-ea692f488aa0"
      },
      "execution_count": null,
      "outputs": [
        {
          "output_type": "execute_result",
          "data": {
            "text/plain": [
              "<matplotlib.axes._subplots.AxesSubplot at 0x7f25b626ff40>"
            ]
          },
          "metadata": {},
          "execution_count": 6
        },
        {
          "output_type": "display_data",
          "data": {
            "text/plain": [
              "<Figure size 432x288 with 1 Axes>"
            ],
            "image/png": "[encoded data removed]"
          },
          "metadata": {
            "needs_background": "light"
          }
        }
      ]
    },
    {
      "cell_type": "code",
      "source": [
        "import matplotlib.pyplot as plt\n",
        "plt.figure(figsize = (18,25))\n",
        "sns.countplot(x='numberOfRooms',data=houseprice)"
      ],
      "metadata": {
        "colab": {
          "base_uri": "https://localhost:8080/",
          "height": 1000
        },
        "id": "mAyVaqaBsHBr",
        "outputId": "29c05469-c549-4faf-bf98-ce33a8b715b6"
      },
      "execution_count": null,
      "outputs": [
        {
          "output_type": "execute_result",
          "data": {
            "text/plain": [
              "<matplotlib.axes._subplots.AxesSubplot at 0x7f25ac150370>"
            ]
          },
          "metadata": {},
          "execution_count": 8
        },
        {
          "output_type": "display_data",
          "data": {
            "text/plain": [
              "<Figure size 1296x1800 with 1 Axes>"
            ],
            "image/png": "[encoded data removed]"
          },
          "metadata": {
            "needs_background": "light"
          }
        }
      ]
    },
    {
      "cell_type": "code",
      "source": [
        "houseprice.drop(['numPrevOwners'],axis=1,inplace=True)"
      ],
      "metadata": {
        "id": "O2dxOvcas7Vl"
      },
      "execution_count": null,
      "outputs": []
    },
    {
      "cell_type": "code",
      "source": [
        "houseprice"
      ],
      "metadata": {
        "colab": {
          "base_uri": "https://localhost:8080/",
          "height": 487
        },
        "id": "mWklGTqTvI2i",
        "outputId": "fa14d51c-c812-4df6-fd63-90a785af253d"
      },
      "execution_count": null,
      "outputs": [
        {
          "output_type": "execute_result",
          "data": {
            "text/plain": [
              "      squareMeters  numberOfRooms  hasYard  hasPool  floors  cityCode  \\\n",
              "0            75523              3        0        1      63      9373   \n",
              "1            80771             39        1        1      98     39381   \n",
              "2            55712             58        0        1      19     34457   \n",
              "3            32316             47        0        0       6     27939   \n",
              "4            70429             19        1        1      90     38045   \n",
              "...            ...            ...      ...      ...     ...       ...   \n",
              "9995          1726             89        0        1       5     73133   \n",
              "9996         44403             29        1        1      12     34606   \n",
              "9997         83841              3        0        0      69     80933   \n",
              "9998         59036             70        0        0      96     55856   \n",
              "9999          1440             84        0        0      49     18412   \n",
              "\n",
              "      cityPartRange  made  isNewBuilt  hasStormProtector  basement  attic  \\\n",
              "0                 3  2005           0                  1      4313   9005   \n",
              "1                 8  2015           1                  0      3653   2436   \n",
              "2                 6  2021           0                  0      2937   8852   \n",
              "3                10  2012           0                  1       659   7141   \n",
              "4                 3  1990           1                  0      8435   2429   \n",
              "...             ...   ...         ...                ...       ...    ...   \n",
              "9995              7  2009           0                  1      9311   1698   \n",
              "9996              9  1990           0                  1      9061   1742   \n",
              "9997             10  2005           1                  1      8304   7730   \n",
              "9998              1  2010           0                  1      2590   6174   \n",
              "9999              6  1994           1                  0      8485   2024   \n",
              "\n",
              "      garage  hasStorageRoom  hasGuestRoom      price  \n",
              "0        956               0             7  7559081.5  \n",
              "1        128               1             2  8085989.5  \n",
              "2        135               1             9  5574642.1  \n",
              "3        359               0             3  3232561.2  \n",
              "4        292               1             4  7055052.0  \n",
              "...      ...             ...           ...        ...  \n",
              "9995     218               0             4   176425.9  \n",
              "9996     230               0             0  4448474.0  \n",
              "9997     345               1             9  8390030.5  \n",
              "9998     339               1             4  5905107.0  \n",
              "9999     278               1             6   146708.4  \n",
              "\n",
              "[10000 rows x 16 columns]"
            ],
            "text/html": [
              "\n",
              "  <div id=\"df-4adf6038-6355-4694-a3d9-2d8ec60e6b1a\">\n",
              "    <div class=\"colab-df-container\">\n",
              "      <div>\n",
              "<style scoped>\n",
              "    .dataframe tbody tr th:only-of-type {\n",
              "        vertical-align: middle;\n",
              "    }\n",
              "\n",
              "    .dataframe tbody tr th {\n",
              "        vertical-align: top;\n",
              "    }\n",
              "\n",
              "    .dataframe thead th {\n",
              "        text-align: right;\n",
              "    }\n",
              "</style>\n",
              "<table border=\"1\" class=\"dataframe\">\n",
              "  <thead>\n",
              "    <tr style=\"text-align: right;\">\n",
              "      <th></th>\n",
              "      <th>squareMeters</th>\n",
              "      <th>numberOfRooms</th>\n",
              "      <th>hasYard</th>\n",
              "      <th>hasPool</th>\n",
              "      <th>floors</th>\n",
              "      <th>cityCode</th>\n",
              "      <th>cityPartRange</th>\n",
              "      <th>made</th>\n",
              "      <th>isNewBuilt</th>\n",
              "      <th>hasStormProtector</th>\n",
              "      <th>basement</th>\n",
              "      <th>attic</th>\n",
              "      <th>garage</th>\n",
              "      <th>hasStorageRoom</th>\n",
              "      <th>hasGuestRoom</th>\n",
              "      <th>price</th>\n",
              "    </tr>\n",
              "  </thead>\n",
              "  <tbody>\n",
              "    <tr>\n",
              "      <th>0</th>\n",
              "      <td>75523</td>\n",
              "      <td>3</td>\n",
              "      <td>0</td>\n",
              "      <td>1</td>\n",
              "      <td>63</td>\n",
              "      <td>9373</td>\n",
              "      <td>3</td>\n",
              "      <td>2005</td>\n",
              "      <td>0</td>\n",
              "      <td>1</td>\n",
              "      <td>4313</td>\n",
              "      <td>9005</td>\n",
              "      <td>956</td>\n",
              "      <td>0</td>\n",
              "      <td>7</td>\n",
              "      <td>7559081.5</td>\n",
              "    </tr>\n",
              "    <tr>\n",
              "      <th>1</th>\n",
              "      <td>80771</td>\n",
              "      <td>39</td>\n",
              "      <td>1</td>\n",
              "      <td>1</td>\n",
              "      <td>98</td>\n",
              "      <td>39381</td>\n",
              "      <td>8</td>\n",
              "      <td>2015</td>\n",
              "      <td>1</td>\n",
              "      <td>0</td>\n",
              "      <td>3653</td>\n",
              "      <td>2436</td>\n",
              "      <td>128</td>\n",
              "      <td>1</td>\n",
              "      <td>2</td>\n",
              "      <td>8085989.5</td>\n",
              "    </tr>\n",
              "    <tr>\n",
              "      <th>2</th>\n",
              "      <td>55712</td>\n",
              "      <td>58</td>\n",
              "      <td>0</td>\n",
              "      <td>1</td>\n",
              "      <td>19</td>\n",
              "      <td>34457</td>\n",
              "      <td>6</td>\n",
              "      <td>2021</td>\n",
              "      <td>0</td>\n",
              "      <td>0</td>\n",
              "      <td>2937</td>\n",
              "      <td>8852</td>\n",
              "      <td>135</td>\n",
              "      <td>1</td>\n",
              "      <td>9</td>\n",
              "      <td>5574642.1</td>\n",
              "    </tr>\n",
              "    <tr>\n",
              "      <th>3</th>\n",
              "      <td>32316</td>\n",
              "      <td>47</td>\n",
              "      <td>0</td>\n",
              "      <td>0</td>\n",
              "      <td>6</td>\n",
              "      <td>27939</td>\n",
              "      <td>10</td>\n",
              "      <td>2012</td>\n",
              "      <td>0</td>\n",
              "      <td>1</td>\n",
              "      <td>659</td>\n",
              "      <td>7141</td>\n",
              "      <td>359</td>\n",
              "      <td>0</td>\n",
              "      <td>3</td>\n",
              "      <td>3232561.2</td>\n",
              "    </tr>\n",
              "    <tr>\n",
              "      <th>4</th>\n",
              "      <td>70429</td>\n",
              "      <td>19</td>\n",
              "      <td>1</td>\n",
              "      <td>1</td>\n",
              "      <td>90</td>\n",
              "      <td>38045</td>\n",
              "      <td>3</td>\n",
              "      <td>1990</td>\n",
              "      <td>1</td>\n",
              "      <td>0</td>\n",
              "      <td>8435</td>\n",
              "      <td>2429</td>\n",
              "      <td>292</td>\n",
              "      <td>1</td>\n",
              "      <td>4</td>\n",
              "      <td>7055052.0</td>\n",
              "    </tr>\n",
              "    <tr>\n",
              "      <th>...</th>\n",
              "      <td>...</td>\n",
              "      <td>...</td>\n",
              "      <td>...</td>\n",
              "      <td>...</td>\n",
              "      <td>...</td>\n",
              "      <td>...</td>\n",
              "      <td>...</td>\n",
              "      <td>...</td>\n",
              "      <td>...</td>\n",
              "      <td>...</td>\n",
              "      <td>...</td>\n",
              "      <td>...</td>\n",
              "      <td>...</td>\n",
              "      <td>...</td>\n",
              "      <td>...</td>\n",
              "      <td>...</td>\n",
              "    </tr>\n",
              "    <tr>\n",
              "      <th>9995</th>\n",
              "      <td>1726</td>\n",
              "      <td>89</td>\n",
              "      <td>0</td>\n",
              "      <td>1</td>\n",
              "      <td>5</td>\n",
              "      <td>73133</td>\n",
              "      <td>7</td>\n",
              "      <td>2009</td>\n",
              "      <td>0</td>\n",
              "      <td>1</td>\n",
              "      <td>9311</td>\n",
              "      <td>1698</td>\n",
              "      <td>218</td>\n",
              "      <td>0</td>\n",
              "      <td>4</td>\n",
              "      <td>176425.9</td>\n",
              "    </tr>\n",
              "    <tr>\n",
              "      <th>9996</th>\n",
              "      <td>44403</td>\n",
              "      <td>29</td>\n",
              "      <td>1</td>\n",
              "      <td>1</td>\n",
              "      <td>12</td>\n",
              "      <td>34606</td>\n",
              "      <td>9</td>\n",
              "      <td>1990</td>\n",
              "      <td>0</td>\n",
              "      <td>1</td>\n",
              "      <td>9061</td>\n",
              "      <td>1742</td>\n",
              "      <td>230</td>\n",
              "      <td>0</td>\n",
              "      <td>0</td>\n",
              "      <td>4448474.0</td>\n",
              "    </tr>\n",
              "    <tr>\n",
              "      <th>9997</th>\n",
              "      <td>83841</td>\n",
              "      <td>3</td>\n",
              "      <td>0</td>\n",
              "      <td>0</td>\n",
              "      <td>69</td>\n",
              "      <td>80933</td>\n",
              "      <td>10</td>\n",
              "      <td>2005</td>\n",
              "      <td>1</td>\n",
              "      <td>1</td>\n",
              "      <td>8304</td>\n",
              "      <td>7730</td>\n",
              "      <td>345</td>\n",
              "      <td>1</td>\n",
              "      <td>9</td>\n",
              "      <td>8390030.5</td>\n",
              "    </tr>\n",
              "    <tr>\n",
              "      <th>9998</th>\n",
              "      <td>59036</td>\n",
              "      <td>70</td>\n",
              "      <td>0</td>\n",
              "      <td>0</td>\n",
              "      <td>96</td>\n",
              "      <td>55856</td>\n",
              "      <td>1</td>\n",
              "      <td>2010</td>\n",
              "      <td>0</td>\n",
              "      <td>1</td>\n",
              "      <td>2590</td>\n",
              "      <td>6174</td>\n",
              "      <td>339</td>\n",
              "      <td>1</td>\n",
              "      <td>4</td>\n",
              "      <td>5905107.0</td>\n",
              "    </tr>\n",
              "    <tr>\n",
              "      <th>9999</th>\n",
              "      <td>1440</td>\n",
              "      <td>84</td>\n",
              "      <td>0</td>\n",
              "      <td>0</td>\n",
              "      <td>49</td>\n",
              "      <td>18412</td>\n",
              "      <td>6</td>\n",
              "      <td>1994</td>\n",
              "      <td>1</td>\n",
              "      <td>0</td>\n",
              "      <td>8485</td>\n",
              "      <td>2024</td>\n",
              "      <td>278</td>\n",
              "      <td>1</td>\n",
              "      <td>6</td>\n",
              "      <td>146708.4</td>\n",
              "    </tr>\n",
              "  </tbody>\n",
              "</table>\n",
              "<p>10000 rows × 16 columns</p>\n",
              "</div>\n",
              "      <button class=\"colab-df-convert\" onclick=\"convertToInteractive('df-4adf6038-6355-4694-a3d9-2d8ec60e6b1a')\"\n",
              "              title=\"Convert this dataframe to an interactive table.\"\n",
              "              style=\"display:none;\">\n",
              "        \n",
              "  <svg xmlns=\"http://www.w3.org/2000/svg\" height=\"24px\"viewBox=\"0 0 24 24\"\n",
              "       width=\"24px\">\n",
              "    <path d=\"M0 0h24v24H0V0z\" fill=\"none\"/>\n",
              "    <path d=\"M18.56 5.44l.94 2.06.94-2.06 2.06-.94-2.06-.94-.94-2.06-.94 2.06-2.06.94zm-11 1L8.5 8.5l.94-2.06 2.06-.94-2.06-.94L8.5 2.5l-.94 2.06-2.06.94zm10 10l.94 2.06.94-2.06 2.06-.94-2.06-.94-.94-2.06-.94 2.06-2.06.94z\"/><path d=\"M17.41 7.96l-1.37-1.37c-.4-.4-.92-.59-1.43-.59-.52 0-1.04.2-1.43.59L10.3 9.45l-7.72 7.72c-.78.78-.78 2.05 0 2.83L4 21.41c.39.39.9.59 1.41.59.51 0 1.02-.2 1.41-.59l7.78-7.78 2.81-2.81c.8-.78.8-2.07 0-2.86zM5.41 20L4 18.59l7.72-7.72 1.47 1.35L5.41 20z\"/>\n",
              "  </svg>\n",
              "      </button>\n",
              "      \n",
              "  <style>\n",
              "    .colab-df-container {\n",
              "      display:flex;\n",
              "      flex-wrap:wrap;\n",
              "      gap: 12px;\n",
              "    }\n",
              "\n",
              "    .colab-df-convert {\n",
              "      background-color: #E8F0FE;\n",
              "      border: none;\n",
              "      border-radius: 50%;\n",
              "      cursor: pointer;\n",
              "      display: none;\n",
              "      fill: #1967D2;\n",
              "      height: 32px;\n",
              "      padding: 0 0 0 0;\n",
              "      width: 32px;\n",
              "    }\n",
              "\n",
              "    .colab-df-convert:hover {\n",
              "      background-color: #E2EBFA;\n",
              "      box-shadow: 0px 1px 2px rgba(60, 64, 67, 0.3), 0px 1px 3px 1px rgba(60, 64, 67, 0.15);\n",
              "      fill: #174EA6;\n",
              "    }\n",
              "\n",
              "    [theme=dark] .colab-df-convert {\n",
              "      background-color: #3B4455;\n",
              "      fill: #D2E3FC;\n",
              "    }\n",
              "\n",
              "    [theme=dark] .colab-df-convert:hover {\n",
              "      background-color: #434B5C;\n",
              "      box-shadow: 0px 1px 3px 1px rgba(0, 0, 0, 0.15);\n",
              "      filter: drop-shadow(0px 1px 2px rgba(0, 0, 0, 0.3));\n",
              "      fill: #FFFFFF;\n",
              "    }\n",
              "  </style>\n",
              "\n",
              "      <script>\n",
              "        const buttonEl =\n",
              "          document.querySelector('#df-4adf6038-6355-4694-a3d9-2d8ec60e6b1a button.colab-df-convert');\n",
              "        buttonEl.style.display =\n",
              "          google.colab.kernel.accessAllowed ? 'block' : 'none';\n",
              "\n",
              "        async function convertToInteractive(key) {\n",
              "          const element = document.querySelector('#df-4adf6038-6355-4694-a3d9-2d8ec60e6b1a');\n",
              "          const dataTable =\n",
              "            await google.colab.kernel.invokeFunction('convertToInteractive',\n",
              "                                                     [key], {});\n",
              "          if (!dataTable) return;\n",
              "\n",
              "          const docLinkHtml = 'Like what you see? Visit the ' +\n",
              "            '<a target=\"_blank\" href=https://colab.research.google.com/notebooks/data_table.ipynb>data table notebook</a>'\n",
              "            + ' to learn more about interactive tables.';\n",
              "          element.innerHTML = '';\n",
              "          dataTable['output_type'] = 'display_data';\n",
              "          await google.colab.output.renderOutput(dataTable, element);\n",
              "          const docLink = document.createElement('div');\n",
              "          docLink.innerHTML = docLinkHtml;\n",
              "          element.appendChild(docLink);\n",
              "        }\n",
              "      </script>\n",
              "    </div>\n",
              "  </div>\n",
              "  "
            ]
          },
          "metadata": {},
          "execution_count": 10
        }
      ]
    },
    {
      "cell_type": "code",
      "source": [
        "sns.countplot(x='hasYard',data=houseprice)"
      ],
      "metadata": {
        "colab": {
          "base_uri": "https://localhost:8080/",
          "height": 296
        },
        "id": "r0AobENYvLXs",
        "outputId": "db860ae9-0f2a-470a-c5b2-fccd95080726"
      },
      "execution_count": null,
      "outputs": [
        {
          "output_type": "execute_result",
          "data": {
            "text/plain": [
              "<matplotlib.axes._subplots.AxesSubplot at 0x7f25b629ef70>"
            ]
          },
          "metadata": {},
          "execution_count": 11
        },
        {
          "output_type": "display_data",
          "data": {
            "text/plain": [
              "<Figure size 432x288 with 1 Axes>"
            ],
            "image/png": "[encoded data removed]"
          },
          "metadata": {
            "needs_background": "light"
          }
        }
      ]
    },
    {
      "cell_type": "code",
      "source": [
        "sns.countplot(x='hasPool',data=houseprice)"
      ],
      "metadata": {
        "colab": {
          "base_uri": "https://localhost:8080/",
          "height": 296
        },
        "id": "y-g_PVeGv_Rv",
        "outputId": "f1dc0485-2cd8-43ed-e0e0-ec83a9b97d34"
      },
      "execution_count": null,
      "outputs": [
        {
          "output_type": "execute_result",
          "data": {
            "text/plain": [
              "<matplotlib.axes._subplots.AxesSubplot at 0x7f25a74604c0>"
            ]
          },
          "metadata": {},
          "execution_count": 12
        },
        {
          "output_type": "display_data",
          "data": {
            "text/plain": [
              "<Figure size 432x288 with 1 Axes>"
            ],
            "image/png": "[encoded data removed]"
          },
          "metadata": {
            "needs_background": "light"
          }
        }
      ]
    },
    {
      "cell_type": "code",
      "source": [
        "sns.displot(x='hasPool',data=houseprice)"
      ],
      "metadata": {
        "colab": {
          "base_uri": "https://localhost:8080/",
          "height": 386
        },
        "id": "0HEpGw3QwJNl",
        "outputId": "2be85680-e26a-4696-f6d1-b9faf8eb8980"
      },
      "execution_count": null,
      "outputs": [
        {
          "output_type": "execute_result",
          "data": {
            "text/plain": [
              "<seaborn.axisgrid.FacetGrid at 0x7f25b2da9820>"
            ]
          },
          "metadata": {},
          "execution_count": 13
        },
        {
          "output_type": "display_data",
          "data": {
            "text/plain": [
              "<Figure size 360x360 with 1 Axes>"
            ],
            "image/png": "[encoded data removed]"
          },
          "metadata": {
            "needs_background": "light"
          }
        }
      ]
    },
    {
      "cell_type": "code",
      "source": [
        "houseprice.columns"
      ],
      "metadata": {
        "colab": {
          "base_uri": "https://localhost:8080/"
        },
        "id": "FaBjuI6Ny4ST",
        "outputId": "c197ac52-ebef-4448-d16a-4502a4e1ce8a"
      },
      "execution_count": null,
      "outputs": [
        {
          "output_type": "execute_result",
          "data": {
            "text/plain": [
              "Index(['squareMeters', 'numberOfRooms', 'hasYard', 'hasPool', 'floors',\n",
              "       'cityCode', 'cityPartRange', 'made', 'isNewBuilt', 'hasStormProtector',\n",
              "       'basement', 'attic', 'garage', 'hasStorageRoom', 'hasGuestRoom',\n",
              "       'price'],\n",
              "      dtype='object')"
            ]
          },
          "metadata": {},
          "execution_count": 14
        }
      ]
    },
    {
      "cell_type": "code",
      "source": [
        "xpoint=houseprice['price']\n",
        "ypoint=houseprice['squareMeters']\n",
        "plt.plot(xpoint,ypoint)"
      ],
      "metadata": {
        "colab": {
          "base_uri": "https://localhost:8080/",
          "height": 295
        },
        "id": "vDeQfN5UzSmR",
        "outputId": "30ab9a81-9502-42d6-b672-f08b99b55ab6"
      },
      "execution_count": null,
      "outputs": [
        {
          "output_type": "execute_result",
          "data": {
            "text/plain": [
              "[<matplotlib.lines.Line2D at 0x7f25a769af70>]"
            ]
          },
          "metadata": {},
          "execution_count": 15
        },
        {
          "output_type": "display_data",
          "data": {
            "text/plain": [
              "<Figure size 432x288 with 1 Axes>"
            ],
            "image/png": "[encoded data removed]"
          },
          "metadata": {
            "needs_background": "light"
          }
        }
      ]
    },
    {
      "cell_type": "code",
      "source": [
        "sns.scatterplot(y='price',x='squareMeters',data=houseprice)"
      ],
      "metadata": {
        "colab": {
          "base_uri": "https://localhost:8080/",
          "height": 307
        },
        "id": "IY98Hh6UwiDH",
        "outputId": "8746dc5d-c956-433b-fb00-9fde44d144f0"
      },
      "execution_count": null,
      "outputs": [
        {
          "output_type": "execute_result",
          "data": {
            "text/plain": [
              "<matplotlib.axes._subplots.AxesSubplot at 0x7f25b334a910>"
            ]
          },
          "metadata": {},
          "execution_count": 16
        },
        {
          "output_type": "display_data",
          "data": {
            "text/plain": [
              "<Figure size 432x288 with 1 Axes>"
            ],
            "image/png": "[encoded data removed]"
          },
          "metadata": {
            "needs_background": "light"
          }
        }
      ]
    },
    {
      "cell_type": "code",
      "source": [
        "plt.figure(figsize = (20,7))\n",
        "sns.heatmap(houseprice.corr(),annot=False,cmap='coolwarm')\n"
      ],
      "metadata": {
        "colab": {
          "base_uri": "https://localhost:8080/",
          "height": 422
        },
        "id": "PsveIe1u1zqW",
        "outputId": "d2a29334-2496-4740-c70a-aa4aafc4277e"
      },
      "execution_count": null,
      "outputs": [
        {
          "output_type": "execute_result",
          "data": {
            "text/plain": [
              "<matplotlib.axes._subplots.AxesSubplot at 0x7f25b2da9bb0>"
            ]
          },
          "metadata": {},
          "execution_count": 17
        },
        {
          "output_type": "display_data",
          "data": {
            "text/plain": [
              "<Figure size 1440x504 with 2 Axes>"
            ],
            "image/png": "[encoded data removed]"
          },
          "metadata": {
            "needs_background": "light"
          }
        }
      ]
    },
    {
      "cell_type": "code",
      "source": [
        "X = houseprice.drop('price',axis = 1)\n",
        "y = houseprice['price']\n"
      ],
      "metadata": {
        "id": "yhyh5UpI2rrY"
      },
      "execution_count": null,
      "outputs": []
    },
    {
      "cell_type": "code",
      "source": [
        "from sklearn.model_selection import train_test_split\n",
        "X_train,X_test,y_train,y_test=train_test_split(X,y,test_size=0.3,random_state=42)"
      ],
      "metadata": {
        "id": "KWoKPTaUA1on"
      },
      "execution_count": null,
      "outputs": []
    },
    {
      "cell_type": "code",
      "source": [
        "from sklearn.linear_model import LinearRegression\n",
        "from sklearn.metrics import accuracy_score"
      ],
      "metadata": {
        "id": "fMfG3f6UBtE7"
      },
      "execution_count": null,
      "outputs": []
    },
    {
      "cell_type": "code",
      "source": [
        "regr = LinearRegression()\n",
        "regr.fit(X_train,y_train)\n",
        "prediction=regr.predict(X_test)\n",
        "\n"
      ],
      "metadata": {
        "id": "hUrJi5H_CBxy"
      },
      "execution_count": null,
      "outputs": []
    },
    {
      "cell_type": "code",
      "source": [
        "prediction"
      ],
      "metadata": {
        "colab": {
          "base_uri": "https://localhost:8080/"
        },
        "id": "mJCeN9GRGluk",
        "outputId": "d44ec90c-f274-4452-9332-65afa10726c1"
      },
      "execution_count": null,
      "outputs": [
        {
          "output_type": "execute_result",
          "data": {
            "text/plain": [
              "array([7962609.88668991, 3715861.96891021, 8553853.37533568, ...,\n",
              "       5220210.85404048, 5864619.68118963, 4829118.93067699])"
            ]
          },
          "metadata": {},
          "execution_count": 76
        }
      ]
    },
    {
      "cell_type": "code",
      "source": [
        "prediction=prediction* 0.00001\n",
        "y_test=y_test * 0.00001\n"
      ],
      "metadata": {
        "id": "3wxOdnZ-Dpk2"
      },
      "execution_count": null,
      "outputs": []
    },
    {
      "cell_type": "code",
      "source": [
        "test_data_accuracy=accuracy_score(np.round(prediction),np.round(y_test))\n"
      ],
      "metadata": {
        "id": "inPeMq7AEtDO"
      },
      "execution_count": null,
      "outputs": []
    },
    {
      "cell_type": "code",
      "source": [
        "print(\"Accuracy:\",test_data_accuracy)"
      ],
      "metadata": {
        "colab": {
          "base_uri": "https://localhost:8080/"
        },
        "id": "DfxxgOBIEt8V",
        "outputId": "83c7b19d-e803-46bd-bb75-94e238d413bf"
      },
      "execution_count": null,
      "outputs": [
        {
          "output_type": "stream",
          "name": "stdout",
          "text": [
            "Accuracy: 0.9853333333333333\n"
          ]
        }
      ]
    },
    {
      "cell_type": "code",
      "source": [],
      "metadata": {
        "id": "_maiorb-HCDt"
      },
      "execution_count": null,
      "outputs": []
    }
  ]
}